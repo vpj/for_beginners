{
 "cells": [
  {
   "cell_type": "markdown",
   "metadata": {},
   "source": [
    "# Turn TensorFlow functions into mathematical notations and diagrams"
   ]
  },
  {
   "cell_type": "markdown",
   "metadata": {},
   "source": [
    "This is based on some helper classes I started writing,\n",
    "to help my self make less mistakes and understand the code better.\n",
    "It is still work in progress.\n",
    "I want to share the idea to see if it interests others."
   ]
  },
  {
   "cell_type": "markdown",
   "metadata": {},
   "source": [
    "**TLDR**: it is a bunch of helper functions that can act\n",
    "as a direct replacement of tensorflow. It renders mathematical formulas\n",
    "and output tensor dimensions. I'm looking for feedback."
   ]
  },
  {
   "cell_type": "markdown",
   "metadata": {},
   "source": [
    "## Example\n",
    "\n",
    "\n",
    "There's a bunch of things I've been working on.\n",
    "In order to show them I've used the initial model creation code of\n",
    "[this tensorflow implementation of capsule nets](https://github.com/ageron/handson-ml/blob/master/extra_capsnets.ipynb).\n",
    "*Starting from **Input Images** upto **Digit Capsules**.*"
   ]
  },
  {
   "cell_type": "markdown",
   "metadata": {},
   "source": [
    "Import the library. I'm trying to make it work as a direct replacement."
   ]
  },
  {
   "cell_type": "code",
   "execution_count": 1,
   "metadata": {},
   "outputs": [
    {
     "data": {
      "text/html": [
       "<script>var __extends = (this && this.__extends) || (function () {\n",
       "    var extendStatics = Object.setPrototypeOf ||\n",
       "        ({ __proto__: [] } instanceof Array && function (d, b) { d.__proto__ = b; }) ||\n",
       "        function (d, b) { for (var p in b) if (b.hasOwnProperty(p)) d[p] = b[p]; };\n",
       "    return function (d, b) {\n",
       "        extendStatics(d, b);\n",
       "        function __() { this.constructor = d; }\n",
       "        d.prototype = b === null ? Object.create(b) : (__.prototype = b.prototype, new __());\n",
       "    };\n",
       "})();\n",
       "define(\"consts\", [\"require\", \"exports\"], function (require, exports) {\n",
       "    \"use strict\";\n",
       "    Object.defineProperty(exports, \"__esModule\", { value: true });\n",
       "    var ELLIPSES = '…';\n",
       "    exports.ELLIPSES = ELLIPSES;\n",
       "    var SVG_NS = \"http://www.w3.org/2000/svg\";\n",
       "    exports.SVG_NS = SVG_NS;\n",
       "});\n",
       "define(\"tensor\", [\"require\", \"exports\"], function (require, exports) {\n",
       "    \"use strict\";\n",
       "    Object.defineProperty(exports, \"__esModule\", { value: true });\n",
       "    var Tensor = /** @class */ (function () {\n",
       "        function Tensor(size, end, options, parent) {\n",
       "            this.highlight = {};\n",
       "            this.cellSize = 15;\n",
       "            this.parent = parent;\n",
       "            this.size = size;\n",
       "            this.end = end;\n",
       "            if (options.highlight != null) {\n",
       "                for (var _i = 0, _a = options.highlight; _i < _a.length; _i++) {\n",
       "                    var h = _a[_i];\n",
       "                    var p = h.position.join('_');\n",
       "                    this.highlight[p] = h;\n",
       "                }\n",
       "            }\n",
       "            if (options.cellSize != null) {\n",
       "                this.cellSize = options.cellSize;\n",
       "            }\n",
       "            this.fullSize = [];\n",
       "            for (var i = 0; i < size.length; ++i) {\n",
       "                this.fullSize.push(size[i] + (end[i] == null ? 0 : 2));\n",
       "            }\n",
       "        }\n",
       "        return Tensor;\n",
       "    }());\n",
       "    exports.Tensor = Tensor;\n",
       "});\n",
       "define(\"tensor_3d\", [\"require\", \"exports\", \"consts\", \"tensor\"], function (require, exports, consts_1, tensor_1) {\n",
       "    \"use strict\";\n",
       "    Object.defineProperty(exports, \"__esModule\", { value: true });\n",
       "    var Cell3D = /** @class */ (function () {\n",
       "        function Cell3D(cell, highlight, tensor, parent) {\n",
       "            this.parent = parent;\n",
       "            this.highlight = highlight;\n",
       "            this.tensor = tensor;\n",
       "            this.cell = cell;\n",
       "        }\n",
       "        Cell3D.prototype.getHighlight = function (face) {\n",
       "            if (this.highlight == null) {\n",
       "                return null;\n",
       "            }\n",
       "            switch (face) {\n",
       "                case 'front':\n",
       "                    return this.highlight.front;\n",
       "                case 'side':\n",
       "                    return this.highlight.side;\n",
       "                default:\n",
       "                    return this.highlight.top;\n",
       "            }\n",
       "        };\n",
       "        Cell3D.prototype.render = function (hasFaces) {\n",
       "            var x = this.cell[0];\n",
       "            var y = this.cell[1];\n",
       "            var z = this.cell[2];\n",
       "            this.renderCellContainer();\n",
       "            if (hasFaces.top) {\n",
       "                this.topFace = this.renderFace([this.tensor.getPoint(x, y, z),\n",
       "                    this.tensor.getPoint(x, y, z + 1),\n",
       "                    this.tensor.getPoint(x + 1, y, z + 1),\n",
       "                    this.tensor.getPoint(x + 1, y, z)], \"top\", this.getHighlight('top'));\n",
       "                this.elem.appendChild(this.topFace);\n",
       "            }\n",
       "            if (hasFaces.front) {\n",
       "                this.frontFace = this.renderFace([this.tensor.getPoint(x, y, z),\n",
       "                    this.tensor.getPoint(x, y + 1, z),\n",
       "                    this.tensor.getPoint(x + 1, y + 1, z),\n",
       "                    this.tensor.getPoint(x + 1, y, z)], \"front\", this.getHighlight('front'));\n",
       "                this.elem.appendChild(this.frontFace);\n",
       "            }\n",
       "            if (hasFaces.side) {\n",
       "                this.sideFace = this.renderFace([this.tensor.getPoint(x + 1, y, z),\n",
       "                    this.tensor.getPoint(x + 1, y + 1, z),\n",
       "                    this.tensor.getPoint(x + 1, y + 1, z + 1),\n",
       "                    this.tensor.getPoint(x + 1, y, z + 1)], \"side\", this.getHighlight('side'));\n",
       "                this.elem.appendChild(this.sideFace);\n",
       "            }\n",
       "        };\n",
       "        Cell3D.prototype.renderFace = function (points, cssClass, highlight) {\n",
       "            var face = document.createElementNS(consts_1.SVG_NS, \"polygon\");\n",
       "            face.classList.add(\"fbeg-face\");\n",
       "            face.classList.add(\"fbeg-face-\" + cssClass);\n",
       "            var pointsStr = \"\";\n",
       "            for (var _i = 0, points_1 = points; _i < points_1.length; _i++) {\n",
       "                var p = points_1[_i];\n",
       "                pointsStr += p.x + \",\" + p.y + \" \";\n",
       "            }\n",
       "            face.setAttribute(\"points\", pointsStr);\n",
       "            if (highlight != null) {\n",
       "                face.style.fill = highlight;\n",
       "            }\n",
       "            return face;\n",
       "        };\n",
       "        Cell3D.prototype.renderLabel = function (face, label, cellSize) {\n",
       "            var x = this.cell[0];\n",
       "            var y = this.cell[1];\n",
       "            var z = this.cell[2];\n",
       "            this.renderCellContainer();\n",
       "            var text = document.createElementNS(consts_1.SVG_NS, \"text\");\n",
       "            var fontSize = Math.round(cellSize * 0.6);\n",
       "            var p;\n",
       "            switch (face) {\n",
       "                case \"top\":\n",
       "                    this.topFace = text;\n",
       "                    p = this.tensor.getPoint(x + 0.5, y + 0.5, z);\n",
       "                    p.y -= fontSize + 1;\n",
       "                    break;\n",
       "                case \"side\":\n",
       "                    this.sideFace = text;\n",
       "                    p = this.tensor.getPoint(x + 1, y + 0.5, z + 0.5);\n",
       "                    p.y -= fontSize + 1;\n",
       "                    break;\n",
       "                default:\n",
       "                    this.frontFace = text;\n",
       "                    p = this.tensor.getPoint(x + 0.5, y + 0.5, z);\n",
       "                    p.x -= cellSize;\n",
       "                    break;\n",
       "            }\n",
       "            text.setAttribute('x', p.x + \"px\");\n",
       "            text.setAttribute('y', p.y + \"px\");\n",
       "            text.style.fontSize = fontSize + \"px\";\n",
       "            text.classList.add(\"fbeg-label\");\n",
       "            //text.classList.add(`fbeg-face`)\n",
       "            text.classList.add(\"fbeg-face-label-\" + face);\n",
       "            text.textContent = label;\n",
       "            this.elem.appendChild(text);\n",
       "        };\n",
       "        Cell3D.prototype.renderCellContainer = function () {\n",
       "            this.elem = document.createElementNS(consts_1.SVG_NS, \"g\");\n",
       "            this.elem.classList.add(\"fbeg-cell\");\n",
       "            this.parent.appendChild(this.elem);\n",
       "        };\n",
       "        return Cell3D;\n",
       "    }());\n",
       "    var Tensor3D = /** @class */ (function (_super) {\n",
       "        __extends(Tensor3D, _super);\n",
       "        function Tensor3D(size, end, options, parent) {\n",
       "            return _super.call(this, size, end, options, parent) || this;\n",
       "        }\n",
       "        Tensor3D.prototype.getPoint = function (x, y, z) {\n",
       "            var angleX = Math.PI / 12;\n",
       "            var angleZ = Math.PI / 9;\n",
       "            var dx = x * Math.cos(angleX) + z * Math.cos(angleZ);\n",
       "            var dy = x * Math.sin(angleX) - z * Math.sin(angleZ) + y;\n",
       "            return { x: dx * this.cellSize, y: dy * this.cellSize };\n",
       "        };\n",
       "        Tensor3D.prototype.render = function () {\n",
       "            this.renderFrame();\n",
       "            this.renderCells();\n",
       "            this.renderLabels(0, 'top');\n",
       "            this.renderLabels(1, 'front');\n",
       "            this.renderLabels(2, 'side');\n",
       "        };\n",
       "        Tensor3D.prototype.renderFrame = function () {\n",
       "            this.content = document.createElementNS(consts_1.SVG_NS, \"svg\");\n",
       "            this.content.classList.add(\"fbeg-3d-content\");\n",
       "            this.parent.appendChild(this.content);\n",
       "            this.elem = document.createElementNS(consts_1.SVG_NS, \"g\");\n",
       "            this.elem.classList.add(\"fbeg-3d\");\n",
       "            this.content.appendChild(this.elem);\n",
       "            var X = this.fullSize[0];\n",
       "            var Y = this.fullSize[1];\n",
       "            var Z = this.fullSize[2];\n",
       "            this.content.style.width = this.getPoint(X, 0, Z).x - this.getPoint(-1, 0, 0).x + \"px\";\n",
       "            this.content.style.height = this.getPoint(X, Y, 0).y - this.getPoint(0, 0, Z).y + \"px\";\n",
       "            console.log(\"translate(\" + this.getPoint(-1, 0, 0).x + \", \" + -this.getPoint(0, 0, Z).y + \")\");\n",
       "            this.elem.style.transform = \"translate(\" + -this.getPoint(-1, 0, 0).x + \"px, \" + -this.getPoint(0, 0, Z).y + \"px)\";\n",
       "        };\n",
       "        Tensor3D.prototype.getFaces = function (cell) {\n",
       "            var faces = {\n",
       "                top: cell[1] == 0,\n",
       "                front: cell[2] == 0,\n",
       "                side: cell[0] == this.fullSize[0] - 1\n",
       "            };\n",
       "            for (var i = 0; i < 3; ++i) {\n",
       "                var c = cell[i];\n",
       "                var f = this.fullSize[i];\n",
       "                if (this.end[i] == null) {\n",
       "                    continue;\n",
       "                }\n",
       "                if (c == f - 2) {\n",
       "                    return null;\n",
       "                }\n",
       "                if (i == 0 && c == f - 3) {\n",
       "                    faces.side = true;\n",
       "                }\n",
       "                else if (i == 1 && c == f - 1) {\n",
       "                    faces.top = true;\n",
       "                }\n",
       "                else if (i == 2 && c == f - 1) {\n",
       "                    faces.front = true;\n",
       "                }\n",
       "            }\n",
       "            if (!faces.top && !faces.front && !faces.side) {\n",
       "                return null;\n",
       "            }\n",
       "            return faces;\n",
       "        };\n",
       "        Tensor3D.prototype.renderCells = function () {\n",
       "            var faces = new Array(6);\n",
       "            var c = [0, 0, -1];\n",
       "            while (true) {\n",
       "                c[2]++;\n",
       "                for (var i = 2; i > 0; --i) {\n",
       "                    if (c[i] >= this.fullSize[i]) {\n",
       "                        c[i] = 0;\n",
       "                        c[i - 1]++;\n",
       "                    }\n",
       "                }\n",
       "                if (c[0] >= this.fullSize[0]) {\n",
       "                    break;\n",
       "                }\n",
       "                var faces_1 = this.getFaces(c);\n",
       "                if (faces_1 == null) {\n",
       "                    continue;\n",
       "                }\n",
       "                var p = c.join('_');\n",
       "                var cell = new Cell3D(c, this.highlight[p], this, this.elem);\n",
       "                cell.render(faces_1);\n",
       "            }\n",
       "        };\n",
       "        Tensor3D.prototype.renderLabels = function (d, face) {\n",
       "            for (var x = 0; x < this.fullSize[d]; ++x) {\n",
       "                var label = \"\" + x;\n",
       "                if (this.end[d] != null) {\n",
       "                    if (x == this.fullSize[d] - 2)\n",
       "                        label = consts_1.ELLIPSES;\n",
       "                    if (x == this.fullSize[d] - 1)\n",
       "                        label = this.end[d];\n",
       "                }\n",
       "                var c = [0, 0, 0];\n",
       "                c[d] = x;\n",
       "                if (d == 2) {\n",
       "                    c[0] = this.fullSize[0] - 1;\n",
       "                }\n",
       "                var cell = new Cell3D(c, null, this, this.elem);\n",
       "                cell.renderLabel(face, label, this.cellSize);\n",
       "            }\n",
       "        };\n",
       "        return Tensor3D;\n",
       "    }(tensor_1.Tensor));\n",
       "    exports.Tensor3D = Tensor3D;\n",
       "});\n",
       "define(\"tensor_2d\", [\"require\", \"exports\", \"consts\", \"tensor\"], function (require, exports, consts_2, tensor_2) {\n",
       "    \"use strict\";\n",
       "    Object.defineProperty(exports, \"__esModule\", { value: true });\n",
       "    var Cell2D = /** @class */ (function () {\n",
       "        function Cell2D(cell, highlight, tensor, parent) {\n",
       "            this.parent = parent;\n",
       "            this.cell = cell;\n",
       "            this.highlight = highlight;\n",
       "            this.tensor = tensor;\n",
       "        }\n",
       "        Cell2D.prototype.renderFace = function (points) {\n",
       "            var face = document.createElementNS(consts_2.SVG_NS, \"polygon\");\n",
       "            face.classList.add(\"fbeg-face\");\n",
       "            var pointsStr = \"\";\n",
       "            for (var _i = 0, points_2 = points; _i < points_2.length; _i++) {\n",
       "                var p = points_2[_i];\n",
       "                pointsStr += p.x + \",\" + p.y + \" \";\n",
       "            }\n",
       "            face.setAttribute(\"points\", pointsStr);\n",
       "            if (this.highlight != null && this.highlight.front != null) {\n",
       "                face.style.fill = this.highlight.front;\n",
       "            }\n",
       "            return face;\n",
       "        };\n",
       "        Cell2D.prototype.render = function () {\n",
       "            var x = this.cell[0];\n",
       "            var y = this.cell[1];\n",
       "            var z = this.cell[2];\n",
       "            this.elem = this.renderFace([this.tensor.getPoint(x, y),\n",
       "                this.tensor.getPoint(x, y + 1),\n",
       "                this.tensor.getPoint(x + 1, y + 1),\n",
       "                this.tensor.getPoint(x + 1, y)]);\n",
       "            this.parent.appendChild(this.elem);\n",
       "        };\n",
       "        Cell2D.prototype.renderLabel = function (face, label, cellSize) {\n",
       "            var text = document.createElementNS(consts_2.SVG_NS, \"text\");\n",
       "            var x = this.cell[0];\n",
       "            var y = this.cell[1];\n",
       "            var p;\n",
       "            switch (face) {\n",
       "                case \"top\":\n",
       "                    this.elem = text;\n",
       "                    p = this.tensor.getPoint(x + 0.5, y + 0.5);\n",
       "                    p.y -= 9;\n",
       "                    break;\n",
       "                default:\n",
       "                    this.elem = text;\n",
       "                    p = this.tensor.getPoint(x + 0.5, y + 0.5);\n",
       "                    p.x -= cellSize;\n",
       "                    p.y += 2;\n",
       "                    break;\n",
       "            }\n",
       "            text.setAttribute('x', p.x + \"px\");\n",
       "            text.setAttribute('y', p.y + \"px\");\n",
       "            text.classList.add(\"fbeg-label\");\n",
       "            text.textContent = label;\n",
       "            this.parent.appendChild(text);\n",
       "        };\n",
       "        return Cell2D;\n",
       "    }());\n",
       "    var Tensor2D = /** @class */ (function (_super) {\n",
       "        __extends(Tensor2D, _super);\n",
       "        function Tensor2D(size, end, options, parent) {\n",
       "            return _super.call(this, size, end, options, parent) || this;\n",
       "        }\n",
       "        Tensor2D.prototype.getPoint = function (x, y) {\n",
       "            return { x: x * this.cellSize, y: y * this.cellSize };\n",
       "        };\n",
       "        Tensor2D.prototype.render = function () {\n",
       "            this.renderFrame();\n",
       "            this.renderCells();\n",
       "            this.renderLabels(0);\n",
       "            this.renderLabels(1);\n",
       "        };\n",
       "        Tensor2D.prototype.renderFrame = function () {\n",
       "            this.content = document.createElementNS(consts_2.SVG_NS, \"svg\");\n",
       "            this.content.classList.add(\"fbeg-2d-content\");\n",
       "            this.parent.appendChild(this.content);\n",
       "            this.elem = document.createElementNS(consts_2.SVG_NS, \"g\");\n",
       "            this.elem.classList.add(\"fbeg-2d\");\n",
       "            this.content.appendChild(this.elem);\n",
       "            var X = this.fullSize[0];\n",
       "            var Y = this.fullSize[1];\n",
       "            this.content.style.width = this.getPoint(X, 0).x - this.getPoint(-1, 0).x + \"px\";\n",
       "            this.content.style.height = this.getPoint(0, Y).y - this.getPoint(0, -1).y + \"px\";\n",
       "            this.elem.style.transform = \"translate(\" + -this.getPoint(-1, 0).x + \"px, \" + -this.getPoint(0, -1).y + \"px)\";\n",
       "        };\n",
       "        Tensor2D.prototype.renderCells = function () {\n",
       "            var X = this.fullSize[0];\n",
       "            var Y = this.fullSize[1];\n",
       "            for (var x = 0; x < X; ++x) {\n",
       "                for (var y = 0; y < Y; ++y) {\n",
       "                    if (this.end[0] != null) {\n",
       "                        if (x == X - 2)\n",
       "                            continue;\n",
       "                    }\n",
       "                    if (this.end[1] != null) {\n",
       "                        if (y == Y - 2)\n",
       "                            continue;\n",
       "                    }\n",
       "                    var p = x + \"_\" + y;\n",
       "                    var cell = new Cell2D([x, y], this.highlight[p], this, this.elem);\n",
       "                    cell.render();\n",
       "                }\n",
       "            }\n",
       "        };\n",
       "        Tensor2D.prototype.renderLabels = function (d) {\n",
       "            for (var x = 0; x < this.fullSize[d]; ++x) {\n",
       "                var label = \"\" + x;\n",
       "                if (this.end[d] != null) {\n",
       "                    if (x == this.fullSize[d] - 2)\n",
       "                        label = consts_2.ELLIPSES;\n",
       "                    if (x == this.fullSize[d] - 1)\n",
       "                        label = this.end[d];\n",
       "                }\n",
       "                var c = [0, 0];\n",
       "                c[d] = x;\n",
       "                var cell = new Cell2D(c, null, this, this.elem);\n",
       "                cell.renderLabel(\"top\", label, this.cellSize);\n",
       "            }\n",
       "        };\n",
       "        return Tensor2D;\n",
       "    }(tensor_2.Tensor));\n",
       "    exports.Tensor2D = Tensor2D;\n",
       "});\n",
       "define(\"tensor_1d\", [\"require\", \"exports\", \"tensor_2d\"], function (require, exports, tensor_2d_1) {\n",
       "    \"use strict\";\n",
       "    Object.defineProperty(exports, \"__esModule\", { value: true });\n",
       "    var Tensor1D = /** @class */ (function (_super) {\n",
       "        __extends(Tensor1D, _super);\n",
       "        function Tensor1D(size, end, options, parent) {\n",
       "            return _super.call(this, size.concat([1]), end.concat([null]), options, parent) || this;\n",
       "        }\n",
       "        Tensor1D.prototype.render = function () {\n",
       "            this.renderFrame();\n",
       "            this.renderCells();\n",
       "            this.renderLabels(0);\n",
       "        };\n",
       "        return Tensor1D;\n",
       "    }(tensor_2d_1.Tensor2D));\n",
       "    exports.Tensor1D = Tensor1D;\n",
       "});\n",
       "define(\"main\", [\"require\", \"exports\", \"tensor_3d\", \"tensor_2d\", \"tensor_1d\"], function (require, exports, tensor_3d_1, tensor_2d_2, tensor_1d_1) {\n",
       "    \"use strict\";\n",
       "    Object.defineProperty(exports, \"__esModule\", { value: true });\n",
       "    function breakdownDimensions(dimensions) {\n",
       "        var result = new Array();\n",
       "        var isSpecified = false;\n",
       "        for (var _i = 0, dimensions_1 = dimensions; _i < dimensions_1.length; _i++) {\n",
       "            var v = dimensions_1[_i];\n",
       "            if (typeof (v) != \"number\") {\n",
       "                isSpecified = true;\n",
       "            }\n",
       "        }\n",
       "        if (isSpecified) {\n",
       "            for (var _a = 0, dimensions_2 = dimensions; _a < dimensions_2.length; _a++) {\n",
       "                var v = dimensions_2[_a];\n",
       "                if (typeof (v) == \"number\") {\n",
       "                    result.push([v]);\n",
       "                }\n",
       "                else {\n",
       "                    if (v.length > 0) {\n",
       "                        result.push(v);\n",
       "                    }\n",
       "                    else if (v.length > 3) {\n",
       "                        return [];\n",
       "                    }\n",
       "                }\n",
       "            }\n",
       "        }\n",
       "        else {\n",
       "            for (var i = 0; i < dimensions.length - 3; ++i) {\n",
       "                result.push([dimensions[i]]);\n",
       "            }\n",
       "            var last = new Array();\n",
       "            for (var i = Math.max(0, dimensions.length - 3); i < dimensions.length; ++i) {\n",
       "                last.push(dimensions[i]);\n",
       "            }\n",
       "            if (last.length > 0) {\n",
       "                result.push(last);\n",
       "            }\n",
       "        }\n",
       "        return result;\n",
       "    }\n",
       "    function renderTensor2(id, dimensions, highlight) {\n",
       "        var container = document.getElementById(id);\n",
       "        if (container == null) {\n",
       "            return;\n",
       "        }\n",
       "        container.classList.add(\"fbeg-container\");\n",
       "        var dimensionsBreakdown = breakdownDimensions(dimensions);\n",
       "        if (dimensionsBreakdown.length <= 0) {\n",
       "            return;\n",
       "        }\n",
       "        for (var _i = 0, dimensionsBreakdown_1 = dimensionsBreakdown; _i < dimensionsBreakdown_1.length; _i++) {\n",
       "            var d = dimensionsBreakdown_1[_i];\n",
       "            var tensor = void 0;\n",
       "            if (d.length == 1) {\n",
       "                tensor = new tensor_1d_1.Tensor1D([d[0]], ['N'], { highlight: highlight }, container);\n",
       "            }\n",
       "            else if (d.length == 2) {\n",
       "                tensor = new tensor_2d_2.Tensor2D([d[0], d[1]], ['N', null], { highlight: highlight }, container);\n",
       "            }\n",
       "            else {\n",
       "                tensor = new tensor_3d_1.Tensor3D([d[0], d[1], d[2]], ['N', null, 'M'], { highlight: highlight }, container);\n",
       "            }\n",
       "            tensor.render();\n",
       "        }\n",
       "    }\n",
       "    function renderTensor(id, dimensions, end, options) {\n",
       "        var container = document.getElementById(id);\n",
       "        if (container == null) {\n",
       "            return;\n",
       "        }\n",
       "        container.classList.add(\"fbeg-container\");\n",
       "        var tensor;\n",
       "        if (dimensions.length == 1) {\n",
       "            tensor = new tensor_1d_1.Tensor1D(dimensions, end, options, container);\n",
       "        }\n",
       "        else if (dimensions.length == 2) {\n",
       "            tensor = new tensor_2d_2.Tensor2D(dimensions, end, options, container);\n",
       "        }\n",
       "        else {\n",
       "            tensor = new tensor_3d_1.Tensor3D(dimensions, end, options, container);\n",
       "        }\n",
       "        tensor.render();\n",
       "    }\n",
       "    exports.renderTensor = renderTensor;\n",
       "    function test2() {\n",
       "        var highlight = [];\n",
       "        for (var i = 1; i < 10; i += 2) {\n",
       "            for (var j = 1; j < 10; j += 2) {\n",
       "                highlight.push({ position: [i, j, 0], front: 'red' });\n",
       "            }\n",
       "        }\n",
       "        for (var i = 0; i < 3; ++i) {\n",
       "            for (var j = 0; j < 3; ++j) {\n",
       "                if (i == 1 && j == 1)\n",
       "                    continue;\n",
       "                highlight.push({ position: [i, j, 0], front: 'orange' });\n",
       "            }\n",
       "        }\n",
       "        renderTensor2(\"testing-div\", [[20], [4, 4], [6, 12, 3]], highlight);\n",
       "    }\n",
       "    function test() {\n",
       "        var highlight = [];\n",
       "        for (var i = 1; i < 10; i += 2) {\n",
       "            for (var j = 1; j < 10; j += 2) {\n",
       "                highlight.push({ position: [i, j, 0], front: 'red' });\n",
       "            }\n",
       "        }\n",
       "        for (var i = 0; i < 3; ++i) {\n",
       "            for (var j = 0; j < 3; ++j) {\n",
       "                if (i == 1 && j == 1)\n",
       "                    continue;\n",
       "                highlight.push({ position: [i, j, 0], front: 'orange' });\n",
       "            }\n",
       "        }\n",
       "        renderTensor(\"testing-div\", [6, 12, 3], ['W', 'H', 'Z'], { highlight: highlight, cellSize: 20 });\n",
       "    }\n",
       "    exports.test = test;\n",
       "});\n",
       "//# sourceMappingURL=data:application/json;base64,eyJ2ZXJzaW9uIjozLCJmaWxlIjoibWFpbi5qcyIsInNvdXJjZVJvb3QiOiIiLCJzb3VyY2VzIjpbImQudHMiLCJjb25zdHMudHMiLCJ0ZW5zb3IudHMiLCJ0ZW5zb3JfM2QudHMiLCJ0ZW5zb3JfMmQudHMiLCJ0ZW5zb3JfMWQudHMiLCJtYWluLnRzIl0sIm5hbWVzIjpbXSwibWFwcGluZ3MiOiI7Ozs7Ozs7Ozs7Ozs7SUNBQSxJQUFNLFFBQVEsR0FBRyxHQUFHLENBQUE7SUFJWiw0QkFBUTtJQUZoQixJQUFNLE1BQU0sR0FBRyw0QkFBNEIsQ0FBQTtJQUV6Qix3QkFBTTs7Ozs7SUNKeEI7UUFVSSxnQkFBWSxJQUFjLEVBQUUsR0FBYSxFQUFFLE9BQWdCLEVBQUUsTUFBbUI7WUFIaEYsY0FBUyxHQUFzQyxFQUFFLENBQUE7WUFDakQsYUFBUSxHQUFXLEVBQUUsQ0FBQTtZQUdqQixJQUFJLENBQUMsTUFBTSxHQUFHLE1BQU0sQ0FBQTtZQUNwQixJQUFJLENBQUMsSUFBSSxHQUFHLElBQUksQ0FBQTtZQUNoQixJQUFJLENBQUMsR0FBRyxHQUFHLEdBQUcsQ0FBQTtZQUNkLEVBQUUsQ0FBQyxDQUFDLE9BQU8sQ0FBQyxTQUFTLElBQUksSUFBSSxDQUFDLENBQUMsQ0FBQztnQkFDNUIsR0FBRyxDQUFDLENBQVUsVUFBaUIsRUFBakIsS0FBQSxPQUFPLENBQUMsU0FBUyxFQUFqQixjQUFpQixFQUFqQixJQUFpQjtvQkFBMUIsSUFBSSxDQUFDLFNBQUE7b0JBQ04sSUFBSSxDQUFDLEdBQUcsQ0FBQyxDQUFDLFFBQVEsQ0FBQyxJQUFJLENBQUMsR0FBRyxDQUFDLENBQUE7b0JBQzVCLElBQUksQ0FBQyxTQUFTLENBQUMsQ0FBQyxDQUFDLEdBQUcsQ0FBQyxDQUFBO2lCQUN4QjtZQUNMLENBQUM7WUFDRCxFQUFFLENBQUMsQ0FBQyxPQUFPLENBQUMsUUFBUSxJQUFJLElBQUksQ0FBQyxDQUFDLENBQUM7Z0JBQzNCLElBQUksQ0FBQyxRQUFRLEdBQUcsT0FBTyxDQUFDLFFBQVEsQ0FBQTtZQUNwQyxDQUFDO1lBRUQsSUFBSSxDQUFDLFFBQVEsR0FBRyxFQUFFLENBQUE7WUFDbEIsR0FBRyxDQUFDLENBQUMsSUFBSSxDQUFDLEdBQUcsQ0FBQyxFQUFFLENBQUMsR0FBRyxJQUFJLENBQUMsTUFBTSxFQUFFLEVBQUUsQ0FBQyxFQUFFLENBQUM7Z0JBQ25DLElBQUksQ0FBQyxRQUFRLENBQUMsSUFBSSxDQUFDLElBQUksQ0FBQyxDQUFDLENBQUMsR0FBRyxDQUFDLEdBQUcsQ0FBQyxDQUFDLENBQUMsSUFBSSxJQUFJLENBQUMsQ0FBQyxDQUFDLENBQUMsQ0FBQyxDQUFDLENBQUMsQ0FBQyxDQUFDLENBQUMsQ0FBQTtZQUMxRCxDQUFDO1FBQ0wsQ0FBQztRQUdMLGFBQUM7SUFBRCxDQUFDLEFBL0JELElBK0JDO0lBRVEsd0JBQU07Ozs7O0lDdkJmO1FBVUksZ0JBQVksSUFBYyxFQUFFLFNBQW9CLEVBQUUsTUFBZ0IsRUFBRSxNQUFtQjtZQUNuRixJQUFJLENBQUMsTUFBTSxHQUFHLE1BQU0sQ0FBQTtZQUNwQixJQUFJLENBQUMsU0FBUyxHQUFHLFNBQVMsQ0FBQTtZQUMxQixJQUFJLENBQUMsTUFBTSxHQUFHLE1BQU0sQ0FBQTtZQUNwQixJQUFJLENBQUMsSUFBSSxHQUFHLElBQUksQ0FBQTtRQUNwQixDQUFDO1FBRU8sNkJBQVksR0FBcEIsVUFBcUIsSUFBWTtZQUM3QixFQUFFLENBQUMsQ0FBQyxJQUFJLENBQUMsU0FBUyxJQUFJLElBQUksQ0FBQyxDQUFDLENBQUM7Z0JBQ3pCLE1BQU0sQ0FBQyxJQUFJLENBQUE7WUFDZixDQUFDO1lBQ0QsTUFBTSxDQUFDLENBQUMsSUFBSSxDQUFDLENBQUMsQ0FBQztnQkFDWCxLQUFLLE9BQU87b0JBQ1IsTUFBTSxDQUFDLElBQUksQ0FBQyxTQUFTLENBQUMsS0FBSyxDQUFBO2dCQUMvQixLQUFLLE1BQU07b0JBQ1AsTUFBTSxDQUFDLElBQUksQ0FBQyxTQUFTLENBQUMsSUFBSSxDQUFBO2dCQUM5QjtvQkFDSSxNQUFNLENBQUMsSUFBSSxDQUFDLFNBQVMsQ0FBQyxHQUFHLENBQUE7WUFDakMsQ0FBQztRQUNMLENBQUM7UUFDRCx1QkFBTSxHQUFOLFVBQU8sUUFBc0I7WUFDekIsSUFBSSxDQUFDLEdBQUcsSUFBSSxDQUFDLElBQUksQ0FBQyxDQUFDLENBQUMsQ0FBQTtZQUNwQixJQUFJLENBQUMsR0FBRyxJQUFJLENBQUMsSUFBSSxDQUFDLENBQUMsQ0FBQyxDQUFBO1lBQ3BCLElBQUksQ0FBQyxHQUFHLElBQUksQ0FBQyxJQUFJLENBQUMsQ0FBQyxDQUFDLENBQUE7WUFDcEIsSUFBSSxDQUFDLG1CQUFtQixFQUFFLENBQUE7WUFFMUIsRUFBRSxDQUFDLENBQUMsUUFBUSxDQUFDLEdBQUcsQ0FBQyxDQUFDLENBQUM7Z0JBQ2YsSUFBSSxDQUFDLE9BQU8sR0FBRyxJQUFJLENBQUMsVUFBVSxDQUMxQixDQUFDLElBQUksQ0FBQyxNQUFNLENBQUMsUUFBUSxDQUFDLENBQUMsRUFBRSxDQUFDLEVBQUUsQ0FBQyxDQUFDO29CQUM5QixJQUFJLENBQUMsTUFBTSxDQUFDLFFBQVEsQ0FBQyxDQUFDLEVBQUUsQ0FBQyxFQUFFLENBQUMsR0FBRyxDQUFDLENBQUM7b0JBQ2pDLElBQUksQ0FBQyxNQUFNLENBQUMsUUFBUSxDQUFDLENBQUMsR0FBRyxDQUFDLEVBQUUsQ0FBQyxFQUFFLENBQUMsR0FBRyxDQUFDLENBQUM7b0JBQ3JDLElBQUksQ0FBQyxNQUFNLENBQUMsUUFBUSxDQUFDLENBQUMsR0FBRyxDQUFDLEVBQUUsQ0FBQyxFQUFFLENBQUMsQ0FBQyxDQUFDLEVBQ2xDLEtBQUssRUFDTCxJQUFJLENBQUMsWUFBWSxDQUFDLEtBQUssQ0FBQyxDQUMzQixDQUFBO2dCQUNELElBQUksQ0FBQyxJQUFJLENBQUMsV0FBVyxDQUFDLElBQUksQ0FBQyxPQUFPLENBQUMsQ0FBQztZQUN4QyxDQUFDO1lBRUQsRUFBRSxDQUFDLENBQUMsUUFBUSxDQUFDLEtBQUssQ0FBQyxDQUFDLENBQUM7Z0JBQ2pCLElBQUksQ0FBQyxTQUFTLEdBQUcsSUFBSSxDQUFDLFVBQVUsQ0FDNUIsQ0FBQyxJQUFJLENBQUMsTUFBTSxDQUFDLFFBQVEsQ0FBQyxDQUFDLEVBQUUsQ0FBQyxFQUFFLENBQUMsQ0FBQztvQkFDOUIsSUFBSSxDQUFDLE1BQU0sQ0FBQyxRQUFRLENBQUMsQ0FBQyxFQUFFLENBQUMsR0FBRyxDQUFDLEVBQUUsQ0FBQyxDQUFDO29CQUNqQyxJQUFJLENBQUMsTUFBTSxDQUFDLFFBQVEsQ0FBQyxDQUFDLEdBQUcsQ0FBQyxFQUFFLENBQUMsR0FBRyxDQUFDLEVBQUUsQ0FBQyxDQUFDO29CQUNyQyxJQUFJLENBQUMsTUFBTSxDQUFDLFFBQVEsQ0FBQyxDQUFDLEdBQUcsQ0FBQyxFQUFFLENBQUMsRUFBRSxDQUFDLENBQUMsQ0FBQyxFQUNsQyxPQUFPLEVBQ1AsSUFBSSxDQUFDLFlBQVksQ0FBQyxPQUFPLENBQUMsQ0FDN0IsQ0FBQTtnQkFDRCxJQUFJLENBQUMsSUFBSSxDQUFDLFdBQVcsQ0FBQyxJQUFJLENBQUMsU0FBUyxDQUFDLENBQUM7WUFDMUMsQ0FBQztZQUVELEVBQUUsQ0FBQyxDQUFDLFFBQVEsQ0FBQyxJQUFJLENBQUMsQ0FBQyxDQUFDO2dCQUNoQixJQUFJLENBQUMsUUFBUSxHQUFHLElBQUksQ0FBQyxVQUFVLENBQzNCLENBQUMsSUFBSSxDQUFDLE1BQU0sQ0FBQyxRQUFRLENBQUMsQ0FBQyxHQUFHLENBQUMsRUFBRSxDQUFDLEVBQUUsQ0FBQyxDQUFDO29CQUNsQyxJQUFJLENBQUMsTUFBTSxDQUFDLFFBQVEsQ0FBQyxDQUFDLEdBQUcsQ0FBQyxFQUFFLENBQUMsR0FBRyxDQUFDLEVBQUUsQ0FBQyxDQUFDO29CQUNyQyxJQUFJLENBQUMsTUFBTSxDQUFDLFFBQVEsQ0FBQyxDQUFDLEdBQUcsQ0FBQyxFQUFFLENBQUMsR0FBRyxDQUFDLEVBQUUsQ0FBQyxHQUFHLENBQUMsQ0FBQztvQkFDekMsSUFBSSxDQUFDLE1BQU0sQ0FBQyxRQUFRLENBQUMsQ0FBQyxHQUFHLENBQUMsRUFBRSxDQUFDLEVBQUUsQ0FBQyxHQUFHLENBQUMsQ0FBQyxDQUFDLEVBQ3RDLE1BQU0sRUFDTixJQUFJLENBQUMsWUFBWSxDQUFDLE1BQU0sQ0FBQyxDQUM1QixDQUFBO2dCQUNELElBQUksQ0FBQyxJQUFJLENBQUMsV0FBVyxDQUFDLElBQUksQ0FBQyxRQUFRLENBQUMsQ0FBQztZQUN6QyxDQUFDO1FBQ0wsQ0FBQztRQUVPLDJCQUFVLEdBQWxCLFVBQW1CLE1BQWUsRUFBRSxRQUFnQixFQUFFLFNBQWlCO1lBQ25FLElBQUksSUFBSSxHQUFHLFFBQVEsQ0FBQyxlQUFlLENBQUMsZUFBTSxFQUFFLFNBQVMsQ0FBQyxDQUFBO1lBRXRELElBQUksQ0FBQyxTQUFTLENBQUMsR0FBRyxDQUFDLFdBQVcsQ0FBQyxDQUFBO1lBQy9CLElBQUksQ0FBQyxTQUFTLENBQUMsR0FBRyxDQUFDLGVBQWEsUUFBVSxDQUFDLENBQUE7WUFFM0MsSUFBSSxTQUFTLEdBQUcsRUFBRSxDQUFBO1lBQ2xCLEdBQUcsQ0FBQyxDQUFVLFVBQU0sRUFBTixpQkFBTSxFQUFOLG9CQUFNLEVBQU4sSUFBTTtnQkFBZixJQUFJLENBQUMsZUFBQTtnQkFDTixTQUFTLElBQU8sQ0FBQyxDQUFDLENBQUMsU0FBSSxDQUFDLENBQUMsQ0FBQyxNQUFHLENBQUE7YUFDaEM7WUFDRCxJQUFJLENBQUMsWUFBWSxDQUFDLFFBQVEsRUFBRSxTQUFTLENBQUMsQ0FBQTtZQUN0QyxFQUFFLENBQUMsQ0FBQyxTQUFTLElBQUksSUFBSSxDQUFDLENBQUMsQ0FBQztnQkFDcEIsSUFBSSxDQUFDLEtBQUssQ0FBQyxJQUFJLEdBQUcsU0FBUyxDQUFBO1lBQy9CLENBQUM7WUFDRCxNQUFNLENBQUMsSUFBSSxDQUFBO1FBQ2YsQ0FBQztRQUVELDRCQUFXLEdBQVgsVUFBWSxJQUFZLEVBQUUsS0FBYSxFQUFFLFFBQWdCO1lBQ3JELElBQUksQ0FBQyxHQUFHLElBQUksQ0FBQyxJQUFJLENBQUMsQ0FBQyxDQUFDLENBQUE7WUFDcEIsSUFBSSxDQUFDLEdBQUcsSUFBSSxDQUFDLElBQUksQ0FBQyxDQUFDLENBQUMsQ0FBQTtZQUNwQixJQUFJLENBQUMsR0FBRyxJQUFJLENBQUMsSUFBSSxDQUFDLENBQUMsQ0FBQyxDQUFBO1lBRXBCLElBQUksQ0FBQyxtQkFBbUIsRUFBRSxDQUFBO1lBRTFCLElBQUksSUFBSSxHQUFHLFFBQVEsQ0FBQyxlQUFlLENBQUMsZUFBTSxFQUFFLE1BQU0sQ0FBQyxDQUFBO1lBQ25ELElBQUksUUFBUSxHQUFHLElBQUksQ0FBQyxLQUFLLENBQUMsUUFBUSxHQUFHLEdBQUcsQ0FBQyxDQUFBO1lBQ3pDLElBQUksQ0FBUSxDQUFBO1lBQ1osTUFBTSxDQUFDLENBQUMsSUFBSSxDQUFDLENBQUMsQ0FBQztnQkFDWCxLQUFLLEtBQUs7b0JBQ04sSUFBSSxDQUFDLE9BQU8sR0FBRyxJQUFJLENBQUE7b0JBQ25CLENBQUMsR0FBRyxJQUFJLENBQUMsTUFBTSxDQUFDLFFBQVEsQ0FBQyxDQUFDLEdBQUcsR0FBRyxFQUFFLENBQUMsR0FBRyxHQUFHLEVBQUUsQ0FBQyxDQUFDLENBQUE7b0JBQzdDLENBQUMsQ0FBQyxDQUFDLElBQUksUUFBUSxHQUFHLENBQUMsQ0FBQTtvQkFDbkIsS0FBSyxDQUFDO2dCQUNWLEtBQUssTUFBTTtvQkFDUCxJQUFJLENBQUMsUUFBUSxHQUFHLElBQUksQ0FBQTtvQkFDcEIsQ0FBQyxHQUFHLElBQUksQ0FBQyxNQUFNLENBQUMsUUFBUSxDQUFDLENBQUMsR0FBRyxDQUFDLEVBQUUsQ0FBQyxHQUFHLEdBQUcsRUFBRSxDQUFDLEdBQUcsR0FBRyxDQUFDLENBQUE7b0JBQ2pELENBQUMsQ0FBQyxDQUFDLElBQUksUUFBUSxHQUFHLENBQUMsQ0FBQTtvQkFDbkIsS0FBSyxDQUFDO2dCQUNWO29CQUNJLElBQUksQ0FBQyxTQUFTLEdBQUcsSUFBSSxDQUFBO29CQUNyQixDQUFDLEdBQUcsSUFBSSxDQUFDLE1BQU0sQ0FBQyxRQUFRLENBQUMsQ0FBQyxHQUFHLEdBQUcsRUFBRSxDQUFDLEdBQUcsR0FBRyxFQUFFLENBQUMsQ0FBQyxDQUFBO29CQUM3QyxDQUFDLENBQUMsQ0FBQyxJQUFJLFFBQVEsQ0FBQTtvQkFDZixLQUFLLENBQUM7WUFDZCxDQUFDO1lBQ0QsSUFBSSxDQUFDLFlBQVksQ0FBQyxHQUFHLEVBQUssQ0FBQyxDQUFDLENBQUMsT0FBSSxDQUFDLENBQUE7WUFDbEMsSUFBSSxDQUFDLFlBQVksQ0FBQyxHQUFHLEVBQUssQ0FBQyxDQUFDLENBQUMsT0FBSSxDQUFDLENBQUE7WUFDbEMsSUFBSSxDQUFDLEtBQUssQ0FBQyxRQUFRLEdBQU0sUUFBUSxPQUFJLENBQUE7WUFFckMsSUFBSSxDQUFDLFNBQVMsQ0FBQyxHQUFHLENBQUMsWUFBWSxDQUFDLENBQUE7WUFDaEMsaUNBQWlDO1lBQ2pDLElBQUksQ0FBQyxTQUFTLENBQUMsR0FBRyxDQUFDLHFCQUFtQixJQUFNLENBQUMsQ0FBQTtZQUM3QyxJQUFJLENBQUMsV0FBVyxHQUFHLEtBQUssQ0FBQTtZQUN4QixJQUFJLENBQUMsSUFBSSxDQUFDLFdBQVcsQ0FBQyxJQUFJLENBQUMsQ0FBQTtRQUMvQixDQUFDO1FBRU8sb0NBQW1CLEdBQTNCO1lBQ0ksSUFBSSxDQUFDLElBQUksR0FBRyxRQUFRLENBQUMsZUFBZSxDQUFDLGVBQU0sRUFBRSxHQUFHLENBQUMsQ0FBQTtZQUNqRCxJQUFJLENBQUMsSUFBSSxDQUFDLFNBQVMsQ0FBQyxHQUFHLENBQUMsV0FBVyxDQUFDLENBQUE7WUFDcEMsSUFBSSxDQUFDLE1BQU0sQ0FBQyxXQUFXLENBQUMsSUFBSSxDQUFDLElBQUksQ0FBQyxDQUFBO1FBQ3RDLENBQUM7UUFDTCxhQUFDO0lBQUQsQ0FBQyxBQXJJRCxJQXFJQztJQUVEO1FBQXVCLDRCQUFNO1FBQ3pCLGtCQUFZLElBQWMsRUFBRSxHQUFhLEVBQUUsT0FBZ0IsRUFBRSxNQUFtQjttQkFDNUUsa0JBQU0sSUFBSSxFQUFFLEdBQUcsRUFBRSxPQUFPLEVBQUUsTUFBTSxDQUFDO1FBQ3JDLENBQUM7UUFFRCwyQkFBUSxHQUFSLFVBQVMsQ0FBUyxFQUFFLENBQVMsRUFBRSxDQUFTO1lBQ3BDLElBQUksTUFBTSxHQUFHLElBQUksQ0FBQyxFQUFFLEdBQUcsRUFBRSxDQUFBO1lBQ3pCLElBQUksTUFBTSxHQUFHLElBQUksQ0FBQyxFQUFFLEdBQUcsQ0FBQyxDQUFBO1lBQ3hCLElBQUksRUFBRSxHQUFHLENBQUMsR0FBRyxJQUFJLENBQUMsR0FBRyxDQUFDLE1BQU0sQ0FBQyxHQUFHLENBQUMsR0FBRyxJQUFJLENBQUMsR0FBRyxDQUFDLE1BQU0sQ0FBQyxDQUFDO1lBQ3JELElBQUksRUFBRSxHQUFHLENBQUMsR0FBRyxJQUFJLENBQUMsR0FBRyxDQUFDLE1BQU0sQ0FBQyxHQUFHLENBQUMsR0FBRyxJQUFJLENBQUMsR0FBRyxDQUFDLE1BQU0sQ0FBQyxHQUFHLENBQUMsQ0FBQztZQUV6RCxNQUFNLENBQUMsRUFBRSxDQUFDLEVBQUUsRUFBRSxHQUFHLElBQUksQ0FBQyxRQUFRLEVBQUUsQ0FBQyxFQUFFLEVBQUUsR0FBRyxJQUFJLENBQUMsUUFBUSxFQUFFLENBQUE7UUFDM0QsQ0FBQztRQUVELHlCQUFNLEdBQU47WUFDSSxJQUFJLENBQUMsV0FBVyxFQUFFLENBQUM7WUFDbkIsSUFBSSxDQUFDLFdBQVcsRUFBRSxDQUFDO1lBQ25CLElBQUksQ0FBQyxZQUFZLENBQUMsQ0FBQyxFQUFFLEtBQUssQ0FBQyxDQUFDO1lBQzVCLElBQUksQ0FBQyxZQUFZLENBQUMsQ0FBQyxFQUFFLE9BQU8sQ0FBQyxDQUFDO1lBQzlCLElBQUksQ0FBQyxZQUFZLENBQUMsQ0FBQyxFQUFFLE1BQU0sQ0FBQyxDQUFDO1FBQ2pDLENBQUM7UUFFUyw4QkFBVyxHQUFyQjtZQUNJLElBQUksQ0FBQyxPQUFPLEdBQUcsUUFBUSxDQUFDLGVBQWUsQ0FBQyxlQUFNLEVBQUUsS0FBSyxDQUFDLENBQUE7WUFDdEQsSUFBSSxDQUFDLE9BQU8sQ0FBQyxTQUFTLENBQUMsR0FBRyxDQUFDLGlCQUFpQixDQUFDLENBQUE7WUFDN0MsSUFBSSxDQUFDLE1BQU0sQ0FBQyxXQUFXLENBQUMsSUFBSSxDQUFDLE9BQU8sQ0FBQyxDQUFBO1lBRXJDLElBQUksQ0FBQyxJQUFJLEdBQUcsUUFBUSxDQUFDLGVBQWUsQ0FBQyxlQUFNLEVBQUUsR0FBRyxDQUFDLENBQUE7WUFDakQsSUFBSSxDQUFDLElBQUksQ0FBQyxTQUFTLENBQUMsR0FBRyxDQUFDLFNBQVMsQ0FBQyxDQUFBO1lBQ2xDLElBQUksQ0FBQyxPQUFPLENBQUMsV0FBVyxDQUFDLElBQUksQ0FBQyxJQUFJLENBQUMsQ0FBQTtZQUVuQyxJQUFJLENBQUMsR0FBRyxJQUFJLENBQUMsUUFBUSxDQUFDLENBQUMsQ0FBQyxDQUFBO1lBQ3hCLElBQUksQ0FBQyxHQUFHLElBQUksQ0FBQyxRQUFRLENBQUMsQ0FBQyxDQUFDLENBQUE7WUFDeEIsSUFBSSxDQUFDLEdBQUcsSUFBSSxDQUFDLFFBQVEsQ0FBQyxDQUFDLENBQUMsQ0FBQTtZQUV4QixJQUFJLENBQUMsT0FBTyxDQUFDLEtBQUssQ0FBQyxLQUFLLEdBQU0sSUFBSSxDQUFDLFFBQVEsQ0FBQyxDQUFDLEVBQUUsQ0FBQyxFQUFFLENBQUMsQ0FBQyxDQUFDLENBQUMsR0FBRyxJQUFJLENBQUMsUUFBUSxDQUFDLENBQUMsQ0FBQyxFQUFFLENBQUMsRUFBRSxDQUFDLENBQUMsQ0FBQyxDQUFDLE9BQUksQ0FBQTtZQUN0RixJQUFJLENBQUMsT0FBTyxDQUFDLEtBQUssQ0FBQyxNQUFNLEdBQU0sSUFBSSxDQUFDLFFBQVEsQ0FBQyxDQUFDLEVBQUUsQ0FBQyxFQUFFLENBQUMsQ0FBQyxDQUFDLENBQUMsR0FBRyxJQUFJLENBQUMsUUFBUSxDQUFDLENBQUMsRUFBRSxDQUFDLEVBQUUsQ0FBQyxDQUFDLENBQUMsQ0FBQyxPQUFJLENBQUE7WUFDdEYsT0FBTyxDQUFDLEdBQUcsQ0FBQyxlQUFhLElBQUksQ0FBQyxRQUFRLENBQUMsQ0FBQyxDQUFDLEVBQUUsQ0FBQyxFQUFFLENBQUMsQ0FBQyxDQUFDLENBQUMsVUFBSyxDQUFDLElBQUksQ0FBQyxRQUFRLENBQUMsQ0FBQyxFQUFFLENBQUMsRUFBRSxDQUFDLENBQUMsQ0FBQyxDQUFDLE1BQUcsQ0FBQyxDQUFBO1lBQ3BGLElBQUksQ0FBQyxJQUFJLENBQUMsS0FBSyxDQUFDLFNBQVMsR0FBRyxlQUFhLENBQUMsSUFBSSxDQUFDLFFBQVEsQ0FBQyxDQUFDLENBQUMsRUFBRSxDQUFDLEVBQUUsQ0FBQyxDQUFDLENBQUMsQ0FBQyxZQUFPLENBQUMsSUFBSSxDQUFDLFFBQVEsQ0FBQyxDQUFDLEVBQUUsQ0FBQyxFQUFFLENBQUMsQ0FBQyxDQUFDLENBQUMsUUFBSyxDQUFBO1FBQzVHLENBQUM7UUFFTywyQkFBUSxHQUFoQixVQUFpQixJQUFjO1lBQzNCLElBQUksS0FBSyxHQUFpQjtnQkFDdEIsR0FBRyxFQUFFLElBQUksQ0FBQyxDQUFDLENBQUMsSUFBSSxDQUFDO2dCQUNqQixLQUFLLEVBQUUsSUFBSSxDQUFDLENBQUMsQ0FBQyxJQUFJLENBQUM7Z0JBQ25CLElBQUksRUFBRSxJQUFJLENBQUMsQ0FBQyxDQUFDLElBQUksSUFBSSxDQUFDLFFBQVEsQ0FBQyxDQUFDLENBQUMsR0FBRyxDQUFDO2FBQ3hDLENBQUE7WUFDRCxHQUFHLENBQUMsQ0FBQyxJQUFJLENBQUMsR0FBRyxDQUFDLEVBQUUsQ0FBQyxHQUFHLENBQUMsRUFBRSxFQUFFLENBQUMsRUFBRSxDQUFDO2dCQUN6QixJQUFJLENBQUMsR0FBRyxJQUFJLENBQUMsQ0FBQyxDQUFDLENBQUE7Z0JBQ2YsSUFBSSxDQUFDLEdBQUcsSUFBSSxDQUFDLFFBQVEsQ0FBQyxDQUFDLENBQUMsQ0FBQTtnQkFDeEIsRUFBRSxDQUFDLENBQUMsSUFBSSxDQUFDLEdBQUcsQ0FBQyxDQUFDLENBQUMsSUFBSSxJQUFJLENBQUMsQ0FBQyxDQUFDO29CQUN0QixRQUFRLENBQUE7Z0JBQ1osQ0FBQztnQkFFRCxFQUFFLENBQUMsQ0FBQyxDQUFDLElBQUksQ0FBQyxHQUFHLENBQUMsQ0FBQyxDQUFDLENBQUM7b0JBQ2IsTUFBTSxDQUFDLElBQUksQ0FBQTtnQkFDZixDQUFDO2dCQUVELEVBQUUsQ0FBQyxDQUFDLENBQUMsSUFBSSxDQUFDLElBQUksQ0FBQyxJQUFJLENBQUMsR0FBRyxDQUFDLENBQUMsQ0FBQyxDQUFDO29CQUN2QixLQUFLLENBQUMsSUFBSSxHQUFHLElBQUksQ0FBQTtnQkFDckIsQ0FBQztnQkFBQyxJQUFJLENBQUMsRUFBRSxDQUFDLENBQUMsQ0FBQyxJQUFJLENBQUMsSUFBSSxDQUFDLElBQUksQ0FBQyxHQUFHLENBQUMsQ0FBQyxDQUFDLENBQUM7b0JBQzlCLEtBQUssQ0FBQyxHQUFHLEdBQUcsSUFBSSxDQUFBO2dCQUNwQixDQUFDO2dCQUFDLElBQUksQ0FBQyxFQUFFLENBQUMsQ0FBQyxDQUFDLElBQUksQ0FBQyxJQUFJLENBQUMsSUFBSSxDQUFDLEdBQUcsQ0FBQyxDQUFDLENBQUMsQ0FBQztvQkFDOUIsS0FBSyxDQUFDLEtBQUssR0FBRyxJQUFJLENBQUE7Z0JBQ3RCLENBQUM7WUFDTCxDQUFDO1lBRUQsRUFBRSxDQUFDLENBQUMsQ0FBQyxLQUFLLENBQUMsR0FBRyxJQUFJLENBQUMsS0FBSyxDQUFDLEtBQUssSUFBSSxDQUFDLEtBQUssQ0FBQyxJQUFJLENBQUMsQ0FBQyxDQUFDO2dCQUM1QyxNQUFNLENBQUMsSUFBSSxDQUFBO1lBQ2YsQ0FBQztZQUVELE1BQU0sQ0FBQyxLQUFLLENBQUE7UUFDaEIsQ0FBQztRQUVTLDhCQUFXLEdBQXJCO1lBQ0ksSUFBSSxLQUFLLEdBQUcsSUFBSSxLQUFLLENBQVUsQ0FBQyxDQUFDLENBQUE7WUFFakMsSUFBSSxDQUFDLEdBQUcsQ0FBQyxDQUFDLEVBQUUsQ0FBQyxFQUFFLENBQUMsQ0FBQyxDQUFDLENBQUE7WUFDbEIsT0FBTyxJQUFJLEVBQUUsQ0FBQztnQkFDVixDQUFDLENBQUMsQ0FBQyxDQUFDLEVBQUUsQ0FBQTtnQkFDTixHQUFHLENBQUMsQ0FBQyxJQUFJLENBQUMsR0FBRyxDQUFDLEVBQUUsQ0FBQyxHQUFHLENBQUMsRUFBRSxFQUFFLENBQUMsRUFBRSxDQUFDO29CQUN6QixFQUFFLENBQUMsQ0FBQyxDQUFDLENBQUMsQ0FBQyxDQUFDLElBQUksSUFBSSxDQUFDLFFBQVEsQ0FBQyxDQUFDLENBQUMsQ0FBQyxDQUFDLENBQUM7d0JBQzNCLENBQUMsQ0FBQyxDQUFDLENBQUMsR0FBRyxDQUFDLENBQUE7d0JBQ1IsQ0FBQyxDQUFDLENBQUMsR0FBRyxDQUFDLENBQUMsRUFBRSxDQUFBO29CQUNkLENBQUM7Z0JBQ0wsQ0FBQztnQkFFRCxFQUFFLENBQUMsQ0FBQyxDQUFDLENBQUMsQ0FBQyxDQUFDLElBQUksSUFBSSxDQUFDLFFBQVEsQ0FBQyxDQUFDLENBQUMsQ0FBQyxDQUFDLENBQUM7b0JBQzNCLEtBQUssQ0FBQTtnQkFDVCxDQUFDO2dCQUVELElBQUksT0FBSyxHQUFHLElBQUksQ0FBQyxRQUFRLENBQUMsQ0FBQyxDQUFDLENBQUE7Z0JBQzVCLEVBQUUsQ0FBQyxDQUFDLE9BQUssSUFBSSxJQUFJLENBQUMsQ0FBQyxDQUFDO29CQUNoQixRQUFRLENBQUE7Z0JBQ1osQ0FBQztnQkFFRCxJQUFJLENBQUMsR0FBRyxDQUFDLENBQUMsSUFBSSxDQUFDLEdBQUcsQ0FBQyxDQUFBO2dCQUNuQixJQUFJLElBQUksR0FBRyxJQUFJLE1BQU0sQ0FBQyxDQUFDLEVBQUUsSUFBSSxDQUFDLFNBQVMsQ0FBQyxDQUFDLENBQUMsRUFBRSxJQUFJLEVBQUUsSUFBSSxDQUFDLElBQUksQ0FBQyxDQUFBO2dCQUM1RCxJQUFJLENBQUMsTUFBTSxDQUFDLE9BQUssQ0FBQyxDQUFBO1lBQ3RCLENBQUM7UUFDTCxDQUFDO1FBRVMsK0JBQVksR0FBdEIsVUFBdUIsQ0FBUyxFQUFFLElBQVk7WUFDMUMsR0FBRyxDQUFDLENBQUMsSUFBSSxDQUFDLEdBQUcsQ0FBQyxFQUFFLENBQUMsR0FBRyxJQUFJLENBQUMsUUFBUSxDQUFDLENBQUMsQ0FBQyxFQUFFLEVBQUUsQ0FBQyxFQUFFLENBQUM7Z0JBQ3hDLElBQUksS0FBSyxHQUFHLEtBQUcsQ0FBRyxDQUFBO2dCQUNsQixFQUFFLENBQUMsQ0FBQyxJQUFJLENBQUMsR0FBRyxDQUFDLENBQUMsQ0FBQyxJQUFJLElBQUksQ0FBQyxDQUFDLENBQUM7b0JBQ3RCLEVBQUUsQ0FBQyxDQUFDLENBQUMsSUFBSSxJQUFJLENBQUMsUUFBUSxDQUFDLENBQUMsQ0FBQyxHQUFHLENBQUMsQ0FBQzt3QkFBQyxLQUFLLEdBQUcsaUJBQVEsQ0FBQTtvQkFDL0MsRUFBRSxDQUFDLENBQUMsQ0FBQyxJQUFJLElBQUksQ0FBQyxRQUFRLENBQUMsQ0FBQyxDQUFDLEdBQUksQ0FBQyxDQUFDO3dCQUFDLEtBQUssR0FBRyxJQUFJLENBQUMsR0FBRyxDQUFDLENBQUMsQ0FBQyxDQUFBO2dCQUN2RCxDQUFDO2dCQUVELElBQUksQ0FBQyxHQUFHLENBQUMsQ0FBQyxFQUFFLENBQUMsRUFBRSxDQUFDLENBQUMsQ0FBQTtnQkFDakIsQ0FBQyxDQUFDLENBQUMsQ0FBQyxHQUFHLENBQUMsQ0FBQTtnQkFDUixFQUFFLENBQUEsQ0FBQyxDQUFDLElBQUksQ0FBQyxDQUFDLENBQUMsQ0FBQztvQkFDUixDQUFDLENBQUMsQ0FBQyxDQUFDLEdBQUcsSUFBSSxDQUFDLFFBQVEsQ0FBQyxDQUFDLENBQUMsR0FBRyxDQUFDLENBQUE7Z0JBQy9CLENBQUM7Z0JBQ0QsSUFBSSxJQUFJLEdBQUcsSUFBSSxNQUFNLENBQUMsQ0FBQyxFQUFFLElBQUksRUFBRSxJQUFJLEVBQUUsSUFBSSxDQUFDLElBQUksQ0FBQyxDQUFBO2dCQUMvQyxJQUFJLENBQUMsV0FBVyxDQUFDLElBQUksRUFBRSxLQUFLLEVBQUUsSUFBSSxDQUFDLFFBQVEsQ0FBQyxDQUFBO1lBQ2hELENBQUM7UUFDTCxDQUFDO1FBQ0wsZUFBQztJQUFELENBQUMsQUF2SEQsQ0FBdUIsZUFBTSxHQXVINUI7SUFFUSw0QkFBUTs7Ozs7SUN2UWpCO1FBT0ksZ0JBQVksSUFBYyxFQUFFLFNBQW9CLEVBQUUsTUFBZ0IsRUFBRSxNQUFtQjtZQUNuRixJQUFJLENBQUMsTUFBTSxHQUFHLE1BQU0sQ0FBQTtZQUNwQixJQUFJLENBQUMsSUFBSSxHQUFHLElBQUksQ0FBQTtZQUNoQixJQUFJLENBQUMsU0FBUyxHQUFHLFNBQVMsQ0FBQTtZQUMxQixJQUFJLENBQUMsTUFBTSxHQUFHLE1BQU0sQ0FBQTtRQUN4QixDQUFDO1FBRU8sMkJBQVUsR0FBbEIsVUFBbUIsTUFBZTtZQUM5QixJQUFJLElBQUksR0FBRyxRQUFRLENBQUMsZUFBZSxDQUFDLGVBQU0sRUFBRSxTQUFTLENBQUMsQ0FBQTtZQUV0RCxJQUFJLENBQUMsU0FBUyxDQUFDLEdBQUcsQ0FBQyxXQUFXLENBQUMsQ0FBQTtZQUUvQixJQUFJLFNBQVMsR0FBRyxFQUFFLENBQUE7WUFDbEIsR0FBRyxDQUFDLENBQVUsVUFBTSxFQUFOLGlCQUFNLEVBQU4sb0JBQU0sRUFBTixJQUFNO2dCQUFmLElBQUksQ0FBQyxlQUFBO2dCQUNOLFNBQVMsSUFBTyxDQUFDLENBQUMsQ0FBQyxTQUFJLENBQUMsQ0FBQyxDQUFDLE1BQUcsQ0FBQTthQUNoQztZQUNELElBQUksQ0FBQyxZQUFZLENBQUMsUUFBUSxFQUFFLFNBQVMsQ0FBQyxDQUFBO1lBQ3RDLEVBQUUsQ0FBQSxDQUFDLElBQUksQ0FBQyxTQUFTLElBQUksSUFBSSxJQUFJLElBQUksQ0FBQyxTQUFTLENBQUMsS0FBSyxJQUFJLElBQUksQ0FBQyxDQUFDLENBQUM7Z0JBQ3hELElBQUksQ0FBQyxLQUFLLENBQUMsSUFBSSxHQUFHLElBQUksQ0FBQyxTQUFTLENBQUMsS0FBSyxDQUFBO1lBQzFDLENBQUM7WUFDRCxNQUFNLENBQUMsSUFBSSxDQUFBO1FBQ2YsQ0FBQztRQUVELHVCQUFNLEdBQU47WUFDSSxJQUFJLENBQUMsR0FBRyxJQUFJLENBQUMsSUFBSSxDQUFDLENBQUMsQ0FBQyxDQUFBO1lBQ3BCLElBQUksQ0FBQyxHQUFHLElBQUksQ0FBQyxJQUFJLENBQUMsQ0FBQyxDQUFDLENBQUE7WUFDcEIsSUFBSSxDQUFDLEdBQUcsSUFBSSxDQUFDLElBQUksQ0FBQyxDQUFDLENBQUMsQ0FBQTtZQUVwQixJQUFJLENBQUMsSUFBSSxHQUFHLElBQUksQ0FBQyxVQUFVLENBQ3ZCLENBQUMsSUFBSSxDQUFDLE1BQU0sQ0FBQyxRQUFRLENBQUMsQ0FBQyxFQUFFLENBQUMsQ0FBQztnQkFDdkIsSUFBSSxDQUFDLE1BQU0sQ0FBQyxRQUFRLENBQUMsQ0FBQyxFQUFFLENBQUMsR0FBRyxDQUFDLENBQUM7Z0JBQzlCLElBQUksQ0FBQyxNQUFNLENBQUMsUUFBUSxDQUFDLENBQUMsR0FBRyxDQUFDLEVBQUUsQ0FBQyxHQUFHLENBQUMsQ0FBQztnQkFDbEMsSUFBSSxDQUFDLE1BQU0sQ0FBQyxRQUFRLENBQUMsQ0FBQyxHQUFHLENBQUMsRUFBRSxDQUFDLENBQUMsQ0FBQyxDQUN0QyxDQUFBO1lBQ0QsSUFBSSxDQUFDLE1BQU0sQ0FBQyxXQUFXLENBQUMsSUFBSSxDQUFDLElBQUksQ0FBQyxDQUFBO1FBQ3RDLENBQUM7UUFFRCw0QkFBVyxHQUFYLFVBQVksSUFBWSxFQUFFLEtBQWEsRUFBRSxRQUFnQjtZQUNyRCxJQUFJLElBQUksR0FBRyxRQUFRLENBQUMsZUFBZSxDQUFDLGVBQU0sRUFBRSxNQUFNLENBQUMsQ0FBQTtZQUNuRCxJQUFJLENBQUMsR0FBRyxJQUFJLENBQUMsSUFBSSxDQUFDLENBQUMsQ0FBQyxDQUFBO1lBQ3BCLElBQUksQ0FBQyxHQUFHLElBQUksQ0FBQyxJQUFJLENBQUMsQ0FBQyxDQUFDLENBQUE7WUFFcEIsSUFBSSxDQUFRLENBQUE7WUFDWixNQUFNLENBQUEsQ0FBQyxJQUFJLENBQUMsQ0FBQyxDQUFDO2dCQUNWLEtBQUssS0FBSztvQkFDTixJQUFJLENBQUMsSUFBSSxHQUFHLElBQUksQ0FBQTtvQkFDaEIsQ0FBQyxHQUFHLElBQUksQ0FBQyxNQUFNLENBQUMsUUFBUSxDQUFDLENBQUMsR0FBRyxHQUFHLEVBQUUsQ0FBQyxHQUFDLEdBQUcsQ0FBQyxDQUFBO29CQUN4QyxDQUFDLENBQUMsQ0FBQyxJQUFJLENBQUMsQ0FBQTtvQkFDUixLQUFLLENBQUM7Z0JBQ1Y7b0JBQ0ksSUFBSSxDQUFDLElBQUksR0FBRyxJQUFJLENBQUE7b0JBQ2hCLENBQUMsR0FBRyxJQUFJLENBQUMsTUFBTSxDQUFDLFFBQVEsQ0FBQyxDQUFDLEdBQUcsR0FBRyxFQUFFLENBQUMsR0FBQyxHQUFHLENBQUMsQ0FBQTtvQkFDeEMsQ0FBQyxDQUFDLENBQUMsSUFBSSxRQUFRLENBQUE7b0JBQ2YsQ0FBQyxDQUFDLENBQUMsSUFBSSxDQUFDLENBQUE7b0JBQ1IsS0FBSyxDQUFDO1lBQ2QsQ0FBQztZQUNELElBQUksQ0FBQyxZQUFZLENBQUMsR0FBRyxFQUFLLENBQUMsQ0FBQyxDQUFDLE9BQUksQ0FBQyxDQUFBO1lBQ2xDLElBQUksQ0FBQyxZQUFZLENBQUMsR0FBRyxFQUFLLENBQUMsQ0FBQyxDQUFDLE9BQUksQ0FBQyxDQUFBO1lBRWxDLElBQUksQ0FBQyxTQUFTLENBQUMsR0FBRyxDQUFDLFlBQVksQ0FBQyxDQUFBO1lBQ2hDLElBQUksQ0FBQyxXQUFXLEdBQUcsS0FBSyxDQUFBO1lBQ3hCLElBQUksQ0FBQyxNQUFNLENBQUMsV0FBVyxDQUFDLElBQUksQ0FBQyxDQUFBO1FBQ2pDLENBQUM7UUFDTCxhQUFDO0lBQUQsQ0FBQyxBQXRFRCxJQXNFQztJQUVEO1FBQXVCLDRCQUFNO1FBQ3pCLGtCQUFZLElBQWMsRUFBRSxHQUFhLEVBQUUsT0FBZ0IsRUFBRSxNQUFtQjttQkFDNUUsa0JBQU0sSUFBSSxFQUFFLEdBQUcsRUFBRSxPQUFPLEVBQUUsTUFBTSxDQUFDO1FBQ3JDLENBQUM7UUFFRCwyQkFBUSxHQUFSLFVBQVMsQ0FBUyxFQUFFLENBQVM7WUFDekIsTUFBTSxDQUFDLEVBQUUsQ0FBQyxFQUFFLENBQUMsR0FBRyxJQUFJLENBQUMsUUFBUSxFQUFFLENBQUMsRUFBRSxDQUFDLEdBQUcsSUFBSSxDQUFDLFFBQVEsRUFBRSxDQUFBO1FBQ3pELENBQUM7UUFHRCx5QkFBTSxHQUFOO1lBQ0ksSUFBSSxDQUFDLFdBQVcsRUFBRSxDQUFDO1lBQ25CLElBQUksQ0FBQyxXQUFXLEVBQUUsQ0FBQztZQUNuQixJQUFJLENBQUMsWUFBWSxDQUFDLENBQUMsQ0FBQyxDQUFDO1lBQ3JCLElBQUksQ0FBQyxZQUFZLENBQUMsQ0FBQyxDQUFDLENBQUM7UUFDekIsQ0FBQztRQUVTLDhCQUFXLEdBQXJCO1lBQ0ksSUFBSSxDQUFDLE9BQU8sR0FBRyxRQUFRLENBQUMsZUFBZSxDQUFDLGVBQU0sRUFBRSxLQUFLLENBQUMsQ0FBQTtZQUN0RCxJQUFJLENBQUMsT0FBTyxDQUFDLFNBQVMsQ0FBQyxHQUFHLENBQUMsaUJBQWlCLENBQUMsQ0FBQTtZQUM3QyxJQUFJLENBQUMsTUFBTSxDQUFDLFdBQVcsQ0FBQyxJQUFJLENBQUMsT0FBTyxDQUFDLENBQUE7WUFFckMsSUFBSSxDQUFDLElBQUksR0FBRyxRQUFRLENBQUMsZUFBZSxDQUFDLGVBQU0sRUFBRSxHQUFHLENBQUMsQ0FBQTtZQUNqRCxJQUFJLENBQUMsSUFBSSxDQUFDLFNBQVMsQ0FBQyxHQUFHLENBQUMsU0FBUyxDQUFDLENBQUE7WUFDbEMsSUFBSSxDQUFDLE9BQU8sQ0FBQyxXQUFXLENBQUMsSUFBSSxDQUFDLElBQUksQ0FBQyxDQUFBO1lBRW5DLElBQUksQ0FBQyxHQUFHLElBQUksQ0FBQyxRQUFRLENBQUMsQ0FBQyxDQUFDLENBQUE7WUFDeEIsSUFBSSxDQUFDLEdBQUcsSUFBSSxDQUFDLFFBQVEsQ0FBQyxDQUFDLENBQUMsQ0FBQTtZQUV4QixJQUFJLENBQUMsT0FBTyxDQUFDLEtBQUssQ0FBQyxLQUFLLEdBQU0sSUFBSSxDQUFDLFFBQVEsQ0FBQyxDQUFDLEVBQUUsQ0FBQyxDQUFDLENBQUMsQ0FBQyxHQUFHLElBQUksQ0FBQyxRQUFRLENBQUMsQ0FBQyxDQUFDLEVBQUUsQ0FBQyxDQUFDLENBQUMsQ0FBQyxPQUFJLENBQUE7WUFDaEYsSUFBSSxDQUFDLE9BQU8sQ0FBQyxLQUFLLENBQUMsTUFBTSxHQUFNLElBQUksQ0FBQyxRQUFRLENBQUMsQ0FBQyxFQUFFLENBQUMsQ0FBQyxDQUFDLENBQUMsR0FBRyxJQUFJLENBQUMsUUFBUSxDQUFDLENBQUMsRUFBRSxDQUFDLENBQUMsQ0FBQyxDQUFDLENBQUMsT0FBSSxDQUFBO1lBQ2pGLElBQUksQ0FBQyxJQUFJLENBQUMsS0FBSyxDQUFDLFNBQVMsR0FBRyxlQUFhLENBQUMsSUFBSSxDQUFDLFFBQVEsQ0FBQyxDQUFDLENBQUMsRUFBRSxDQUFDLENBQUMsQ0FBQyxDQUFDLFlBQU8sQ0FBQyxJQUFJLENBQUMsUUFBUSxDQUFDLENBQUMsRUFBRSxDQUFDLENBQUMsQ0FBQyxDQUFDLENBQUMsUUFBSyxDQUFBO1FBQ3ZHLENBQUM7UUFFUyw4QkFBVyxHQUFyQjtZQUNJLElBQUksQ0FBQyxHQUFHLElBQUksQ0FBQyxRQUFRLENBQUMsQ0FBQyxDQUFDLENBQUE7WUFDeEIsSUFBSSxDQUFDLEdBQUcsSUFBSSxDQUFDLFFBQVEsQ0FBQyxDQUFDLENBQUMsQ0FBQTtZQUV4QixHQUFHLENBQUMsQ0FBQyxJQUFJLENBQUMsR0FBRyxDQUFDLEVBQUUsQ0FBQyxHQUFHLENBQUMsRUFBRSxFQUFFLENBQUMsRUFBRSxDQUFDO2dCQUN6QixHQUFHLENBQUMsQ0FBQyxJQUFJLENBQUMsR0FBRyxDQUFDLEVBQUUsQ0FBQyxHQUFHLENBQUMsRUFBRSxFQUFFLENBQUMsRUFBRSxDQUFDO29CQUN6QixFQUFFLENBQUMsQ0FBQyxJQUFJLENBQUMsR0FBRyxDQUFDLENBQUMsQ0FBQyxJQUFJLElBQUksQ0FBQyxDQUFDLENBQUM7d0JBQ3RCLEVBQUUsQ0FBQyxDQUFDLENBQUMsSUFBSSxDQUFDLEdBQUcsQ0FBQyxDQUFDOzRCQUFDLFFBQVEsQ0FBQTtvQkFDNUIsQ0FBQztvQkFDRCxFQUFFLENBQUMsQ0FBQyxJQUFJLENBQUMsR0FBRyxDQUFDLENBQUMsQ0FBQyxJQUFJLElBQUksQ0FBQyxDQUFDLENBQUM7d0JBQ3RCLEVBQUUsQ0FBQyxDQUFDLENBQUMsSUFBSSxDQUFDLEdBQUcsQ0FBQyxDQUFDOzRCQUFDLFFBQVEsQ0FBQTtvQkFDNUIsQ0FBQztvQkFFRCxJQUFJLENBQUMsR0FBTSxDQUFDLFNBQUksQ0FBRyxDQUFBO29CQUVuQixJQUFJLElBQUksR0FBRyxJQUFJLE1BQU0sQ0FBQyxDQUFDLENBQUMsRUFBRSxDQUFDLENBQUMsRUFBRSxJQUFJLENBQUMsU0FBUyxDQUFDLENBQUMsQ0FBQyxFQUFFLElBQUksRUFBRSxJQUFJLENBQUMsSUFBSSxDQUFDLENBQUE7b0JBQ2pFLElBQUksQ0FBQyxNQUFNLEVBQUUsQ0FBQTtnQkFDakIsQ0FBQztZQUNMLENBQUM7UUFDTCxDQUFDO1FBRVMsK0JBQVksR0FBdEIsVUFBdUIsQ0FBUztZQUM1QixHQUFHLENBQUMsQ0FBQyxJQUFJLENBQUMsR0FBRyxDQUFDLEVBQUUsQ0FBQyxHQUFHLElBQUksQ0FBQyxRQUFRLENBQUMsQ0FBQyxDQUFDLEVBQUUsRUFBRSxDQUFDLEVBQUUsQ0FBQztnQkFDeEMsSUFBSSxLQUFLLEdBQUcsS0FBRyxDQUFHLENBQUE7Z0JBQ2xCLEVBQUUsQ0FBQyxDQUFDLElBQUksQ0FBQyxHQUFHLENBQUMsQ0FBQyxDQUFDLElBQUksSUFBSSxDQUFDLENBQUMsQ0FBQztvQkFDdEIsRUFBRSxDQUFDLENBQUMsQ0FBQyxJQUFJLElBQUksQ0FBQyxRQUFRLENBQUMsQ0FBQyxDQUFDLEdBQUcsQ0FBQyxDQUFDO3dCQUFDLEtBQUssR0FBRyxpQkFBUSxDQUFBO29CQUMvQyxFQUFFLENBQUMsQ0FBQyxDQUFDLElBQUksSUFBSSxDQUFDLFFBQVEsQ0FBQyxDQUFDLENBQUMsR0FBRyxDQUFDLENBQUM7d0JBQUMsS0FBSyxHQUFHLElBQUksQ0FBQyxHQUFHLENBQUMsQ0FBQyxDQUFDLENBQUE7Z0JBQ3RELENBQUM7Z0JBQ0QsSUFBSSxDQUFDLEdBQUcsQ0FBQyxDQUFDLEVBQUUsQ0FBQyxDQUFDLENBQUE7Z0JBQ2QsQ0FBQyxDQUFDLENBQUMsQ0FBQyxHQUFHLENBQUMsQ0FBQTtnQkFFUixJQUFJLElBQUksR0FBRyxJQUFJLE1BQU0sQ0FBQyxDQUFDLEVBQUUsSUFBSSxFQUFFLElBQUksRUFBRSxJQUFJLENBQUMsSUFBSSxDQUFDLENBQUE7Z0JBQy9DLElBQUksQ0FBQyxXQUFXLENBQUMsS0FBSyxFQUFFLEtBQUssRUFBRSxJQUFJLENBQUMsUUFBUSxDQUFDLENBQUE7WUFDakQsQ0FBQztRQUNMLENBQUM7UUFDTCxlQUFDO0lBQUQsQ0FBQyxBQXJFRCxDQUF1QixlQUFNLEdBcUU1QjtJQUdRLDRCQUFROzs7OztJQ2pKakI7UUFBdUIsNEJBQVE7UUFDM0Isa0JBQVksSUFBYyxFQUFFLEdBQWEsRUFBRSxPQUFnQixFQUFFLE1BQW1CO21CQUM1RSxrQkFBTSxJQUFJLENBQUMsTUFBTSxDQUFDLENBQUMsQ0FBQyxDQUFDLENBQUMsRUFBRSxHQUFHLENBQUMsTUFBTSxDQUFDLENBQUMsSUFBSSxDQUFDLENBQUMsRUFBRSxPQUFPLEVBQUUsTUFBTSxDQUFDO1FBQ2hFLENBQUM7UUFFRCx5QkFBTSxHQUFOO1lBQ0ksSUFBSSxDQUFDLFdBQVcsRUFBRSxDQUFDO1lBQ25CLElBQUksQ0FBQyxXQUFXLEVBQUUsQ0FBQztZQUNuQixJQUFJLENBQUMsWUFBWSxDQUFDLENBQUMsQ0FBQyxDQUFDO1FBQ3pCLENBQUM7UUFDTCxlQUFDO0lBQUQsQ0FBQyxBQVZELENBQXVCLG9CQUFRLEdBVTlCO0lBRVEsNEJBQVE7Ozs7O0lDVGpCLDZCQUE2QixVQUFpQjtRQUM1QyxJQUFJLE1BQU0sR0FBZSxJQUFJLEtBQUssRUFBWSxDQUFDO1FBRS9DLElBQUksV0FBVyxHQUFHLEtBQUssQ0FBQztRQUN4QixHQUFHLENBQUMsQ0FBVSxVQUFVLEVBQVYseUJBQVUsRUFBVix3QkFBVSxFQUFWLElBQVU7WUFBbkIsSUFBSSxDQUFDLG1CQUFBO1lBQ1IsRUFBRSxDQUFDLENBQUMsT0FBTyxDQUFDLENBQUMsQ0FBQyxJQUFJLFFBQVEsQ0FBQyxDQUFDLENBQUM7Z0JBQzNCLFdBQVcsR0FBRyxJQUFJLENBQUM7WUFDckIsQ0FBQztTQUNGO1FBRUQsRUFBRSxDQUFDLENBQUMsV0FBVyxDQUFDLENBQUMsQ0FBQztZQUNoQixHQUFHLENBQUMsQ0FBVSxVQUFVLEVBQVYseUJBQVUsRUFBVix3QkFBVSxFQUFWLElBQVU7Z0JBQW5CLElBQUksQ0FBQyxtQkFBQTtnQkFDUixFQUFFLENBQUMsQ0FBQyxPQUFPLENBQUMsQ0FBQyxDQUFDLElBQUksUUFBUSxDQUFDLENBQUMsQ0FBQztvQkFDM0IsTUFBTSxDQUFDLElBQUksQ0FBQyxDQUFDLENBQUMsQ0FBQyxDQUFDLENBQUM7Z0JBQ25CLENBQUM7Z0JBQUMsSUFBSSxDQUFDLENBQUM7b0JBQ04sRUFBRSxDQUFDLENBQUMsQ0FBQyxDQUFDLE1BQU0sR0FBRyxDQUFDLENBQUMsQ0FBQyxDQUFDO3dCQUNqQixNQUFNLENBQUMsSUFBSSxDQUFDLENBQUMsQ0FBQyxDQUFDO29CQUNqQixDQUFDO29CQUFDLElBQUksQ0FBQyxFQUFFLENBQUEsQ0FBQyxDQUFDLENBQUMsTUFBTSxHQUFHLENBQUMsQ0FBQyxDQUFDLENBQUM7d0JBQ3ZCLE1BQU0sQ0FBQyxFQUFFLENBQUM7b0JBQ1osQ0FBQztnQkFDSCxDQUFDO2FBQ0Y7UUFDSCxDQUFDO1FBQUMsSUFBSSxDQUFDLENBQUM7WUFDTixHQUFHLENBQUMsQ0FBQyxJQUFJLENBQUMsR0FBRyxDQUFDLEVBQUUsQ0FBQyxHQUFHLFVBQVUsQ0FBQyxNQUFNLEdBQUcsQ0FBQyxFQUFFLEVBQUUsQ0FBQyxFQUFFLENBQUM7Z0JBQy9DLE1BQU0sQ0FBQyxJQUFJLENBQUMsQ0FBQyxVQUFVLENBQUMsQ0FBQyxDQUFDLENBQUMsQ0FBQyxDQUFDO1lBQy9CLENBQUM7WUFDRCxJQUFJLElBQUksR0FBRyxJQUFJLEtBQUssRUFBVSxDQUFDO1lBQy9CLEdBQUcsQ0FBQyxDQUFDLElBQUksQ0FBQyxHQUFHLElBQUksQ0FBQyxHQUFHLENBQUMsQ0FBQyxFQUFFLFVBQVUsQ0FBQyxNQUFNLEdBQUcsQ0FBQyxDQUFDLEVBQUUsQ0FBQyxHQUFHLFVBQVUsQ0FBQyxNQUFNLEVBQUUsRUFBRSxDQUFDLEVBQUUsQ0FBQztnQkFDNUUsSUFBSSxDQUFDLElBQUksQ0FBQyxVQUFVLENBQUMsQ0FBQyxDQUFDLENBQUMsQ0FBQztZQUMzQixDQUFDO1lBQ0QsRUFBRSxDQUFDLENBQUMsSUFBSSxDQUFDLE1BQU0sR0FBRyxDQUFDLENBQUMsQ0FBQyxDQUFDO2dCQUNwQixNQUFNLENBQUMsSUFBSSxDQUFDLElBQUksQ0FBQyxDQUFDO1lBQ3BCLENBQUM7UUFDSCxDQUFDO1FBRUQsTUFBTSxDQUFDLE1BQU0sQ0FBQztJQUNoQixDQUFDO0lBRUQsdUJBQXVCLEVBQVUsRUFBRSxVQUFpQixFQUFFLFNBQXNCO1FBQzFFLElBQUksU0FBUyxHQUFHLFFBQVEsQ0FBQyxjQUFjLENBQUMsRUFBRSxDQUFDLENBQUE7UUFDM0MsRUFBRSxDQUFDLENBQUMsU0FBUyxJQUFJLElBQUksQ0FBQyxDQUFDLENBQUM7WUFDdEIsTUFBTSxDQUFBO1FBQ1IsQ0FBQztRQUNELFNBQVMsQ0FBQyxTQUFTLENBQUMsR0FBRyxDQUFDLGdCQUFnQixDQUFDLENBQUE7UUFFekMsSUFBSSxtQkFBbUIsR0FBRyxtQkFBbUIsQ0FBQyxVQUFVLENBQUMsQ0FBQztRQUMxRCxFQUFFLENBQUEsQ0FBQyxtQkFBbUIsQ0FBQyxNQUFNLElBQUksQ0FBQyxDQUFDLENBQUMsQ0FBQztZQUNuQyxNQUFNLENBQUE7UUFDUixDQUFDO1FBRUQsR0FBRyxDQUFBLENBQVUsVUFBbUIsRUFBbkIsMkNBQW1CLEVBQW5CLGlDQUFtQixFQUFuQixJQUFtQjtZQUE1QixJQUFJLENBQUMsNEJBQUE7WUFDUCxJQUFJLE1BQU0sU0FBUSxDQUFBO1lBQ2xCLEVBQUUsQ0FBQSxDQUFDLENBQUMsQ0FBQyxNQUFNLElBQUksQ0FBQyxDQUFDLENBQUMsQ0FBQztnQkFDakIsTUFBTSxHQUFHLElBQUksb0JBQVEsQ0FBQyxDQUFDLENBQUMsQ0FBQyxDQUFDLENBQUMsQ0FBQyxFQUFFLENBQUMsR0FBRyxDQUFDLEVBQUUsRUFBQyxTQUFTLFdBQUEsRUFBQyxFQUFFLFNBQVMsQ0FBQyxDQUFDO1lBQy9ELENBQUM7WUFBQyxJQUFJLENBQUMsRUFBRSxDQUFBLENBQUMsQ0FBQyxDQUFDLE1BQU0sSUFBSSxDQUFDLENBQUMsQ0FBQyxDQUFDO2dCQUN4QixNQUFNLEdBQUcsSUFBSSxvQkFBUSxDQUFDLENBQUMsQ0FBQyxDQUFDLENBQUMsQ0FBQyxFQUFFLENBQUMsQ0FBQyxDQUFDLENBQUMsQ0FBQyxFQUFFLENBQUMsR0FBRyxFQUFFLElBQUksQ0FBQyxFQUFFLEVBQUMsU0FBUyxXQUFBLEVBQUMsRUFBRSxTQUFTLENBQUMsQ0FBQztZQUMzRSxDQUFDO1lBQUMsSUFBSSxDQUFDLENBQUM7Z0JBQ04sTUFBTSxHQUFHLElBQUksb0JBQVEsQ0FBQyxDQUFDLENBQUMsQ0FBQyxDQUFDLENBQUMsRUFBRSxDQUFDLENBQUMsQ0FBQyxDQUFDLEVBQUUsQ0FBQyxDQUFDLENBQUMsQ0FBQyxDQUFDLEVBQUUsQ0FBQyxHQUFHLEVBQUUsSUFBSSxFQUFFLEdBQUcsQ0FBQyxFQUFFLEVBQUMsU0FBUyxXQUFBLEVBQUMsRUFBRSxTQUFTLENBQUMsQ0FBQztZQUN0RixDQUFDO1lBRUQsTUFBTSxDQUFDLE1BQU0sRUFBRSxDQUFBO1NBQ2hCO0lBQ0gsQ0FBQztJQUVELHNCQUFzQixFQUFVLEVBQUUsVUFBb0IsRUFBRSxHQUFhLEVBQUUsT0FBZ0I7UUFDckYsSUFBSSxTQUFTLEdBQUcsUUFBUSxDQUFDLGNBQWMsQ0FBQyxFQUFFLENBQUMsQ0FBQTtRQUMzQyxFQUFFLENBQUMsQ0FBQyxTQUFTLElBQUksSUFBSSxDQUFDLENBQUMsQ0FBQztZQUN0QixNQUFNLENBQUE7UUFDUixDQUFDO1FBQ0QsU0FBUyxDQUFDLFNBQVMsQ0FBQyxHQUFHLENBQUMsZ0JBQWdCLENBQUMsQ0FBQTtRQUV2QyxJQUFJLE1BQWMsQ0FBQTtRQUNsQixFQUFFLENBQUEsQ0FBQyxVQUFVLENBQUMsTUFBTSxJQUFJLENBQUMsQ0FBQyxDQUFDLENBQUM7WUFDMUIsTUFBTSxHQUFHLElBQUksb0JBQVEsQ0FBQyxVQUFVLEVBQUUsR0FBRyxFQUFFLE9BQU8sRUFBRSxTQUFTLENBQUMsQ0FBQztRQUM3RCxDQUFDO1FBQUMsSUFBSSxDQUFDLEVBQUUsQ0FBQSxDQUFDLFVBQVUsQ0FBQyxNQUFNLElBQUksQ0FBQyxDQUFDLENBQUMsQ0FBQztZQUNqQyxNQUFNLEdBQUcsSUFBSSxvQkFBUSxDQUFDLFVBQVUsRUFBRSxHQUFHLEVBQUUsT0FBTyxFQUFFLFNBQVMsQ0FBQyxDQUFDO1FBQzdELENBQUM7UUFBQyxJQUFJLENBQUMsQ0FBQztZQUNOLE1BQU0sR0FBRyxJQUFJLG9CQUFRLENBQUMsVUFBVSxFQUFFLEdBQUcsRUFBRSxPQUFPLEVBQUUsU0FBUyxDQUFDLENBQUM7UUFDN0QsQ0FBQztRQUVELE1BQU0sQ0FBQyxNQUFNLEVBQUUsQ0FBQTtJQUNuQixDQUFDO0lBa0NRLG9DQUFZO0lBaENyQjtRQUNFLElBQUksU0FBUyxHQUFnQixFQUFFLENBQUE7UUFDL0IsR0FBRyxDQUFBLENBQUMsSUFBSSxDQUFDLEdBQUcsQ0FBQyxFQUFFLENBQUMsR0FBRyxFQUFFLEVBQUUsQ0FBQyxJQUFJLENBQUMsRUFBRSxDQUFDO1lBQzlCLEdBQUcsQ0FBQSxDQUFDLElBQUksQ0FBQyxHQUFHLENBQUMsRUFBRSxDQUFDLEdBQUcsRUFBRSxFQUFFLENBQUMsSUFBSSxDQUFDLEVBQUUsQ0FBQztnQkFDOUIsU0FBUyxDQUFDLElBQUksQ0FBQyxFQUFDLFFBQVEsRUFBRSxDQUFDLENBQUMsRUFBRSxDQUFDLEVBQUUsQ0FBQyxDQUFDLEVBQUUsS0FBSyxFQUFFLEtBQUssRUFBQyxDQUFDLENBQUE7WUFDckQsQ0FBQztRQUNILENBQUM7UUFDRCxHQUFHLENBQUEsQ0FBQyxJQUFJLENBQUMsR0FBRyxDQUFDLEVBQUUsQ0FBQyxHQUFHLENBQUMsRUFBRSxFQUFFLENBQUMsRUFBRSxDQUFDO1lBQzFCLEdBQUcsQ0FBQSxDQUFDLElBQUksQ0FBQyxHQUFHLENBQUMsRUFBRSxDQUFDLEdBQUcsQ0FBQyxFQUFFLEVBQUUsQ0FBQyxFQUFFLENBQUM7Z0JBQzFCLEVBQUUsQ0FBQSxDQUFDLENBQUMsSUFBSSxDQUFDLElBQUksQ0FBQyxJQUFJLENBQUMsQ0FBQztvQkFBQyxRQUFRLENBQUM7Z0JBQzlCLFNBQVMsQ0FBQyxJQUFJLENBQUMsRUFBQyxRQUFRLEVBQUUsQ0FBQyxDQUFDLEVBQUUsQ0FBQyxFQUFFLENBQUMsQ0FBQyxFQUFFLEtBQUssRUFBRSxRQUFRLEVBQUMsQ0FBQyxDQUFBO1lBQ3hELENBQUM7UUFDSCxDQUFDO1FBQ0QsYUFBYSxDQUFDLGFBQWEsRUFBRSxDQUFDLENBQUMsRUFBRSxDQUFDLEVBQUUsQ0FBQyxDQUFDLEVBQUUsQ0FBQyxDQUFDLEVBQUUsQ0FBQyxDQUFDLEVBQUUsRUFBRSxFQUFFLENBQUMsQ0FBQyxDQUFDLEVBQUUsU0FBUyxDQUFDLENBQUE7SUFDckUsQ0FBQztJQUVEO1FBQ0UsSUFBSSxTQUFTLEdBQWdCLEVBQUUsQ0FBQTtRQUMvQixHQUFHLENBQUEsQ0FBQyxJQUFJLENBQUMsR0FBRyxDQUFDLEVBQUUsQ0FBQyxHQUFHLEVBQUUsRUFBRSxDQUFDLElBQUksQ0FBQyxFQUFFLENBQUM7WUFDOUIsR0FBRyxDQUFBLENBQUMsSUFBSSxDQUFDLEdBQUcsQ0FBQyxFQUFFLENBQUMsR0FBRyxFQUFFLEVBQUUsQ0FBQyxJQUFJLENBQUMsRUFBRSxDQUFDO2dCQUM5QixTQUFTLENBQUMsSUFBSSxDQUFDLEVBQUMsUUFBUSxFQUFFLENBQUMsQ0FBQyxFQUFFLENBQUMsRUFBRSxDQUFDLENBQUMsRUFBRSxLQUFLLEVBQUUsS0FBSyxFQUFDLENBQUMsQ0FBQTtZQUNyRCxDQUFDO1FBQ0gsQ0FBQztRQUNELEdBQUcsQ0FBQSxDQUFDLElBQUksQ0FBQyxHQUFHLENBQUMsRUFBRSxDQUFDLEdBQUcsQ0FBQyxFQUFFLEVBQUUsQ0FBQyxFQUFFLENBQUM7WUFDMUIsR0FBRyxDQUFBLENBQUMsSUFBSSxDQUFDLEdBQUcsQ0FBQyxFQUFFLENBQUMsR0FBRyxDQUFDLEVBQUUsRUFBRSxDQUFDLEVBQUUsQ0FBQztnQkFDMUIsRUFBRSxDQUFBLENBQUMsQ0FBQyxJQUFJLENBQUMsSUFBSSxDQUFDLElBQUksQ0FBQyxDQUFDO29CQUFDLFFBQVEsQ0FBQztnQkFDOUIsU0FBUyxDQUFDLElBQUksQ0FBQyxFQUFDLFFBQVEsRUFBRSxDQUFDLENBQUMsRUFBRSxDQUFDLEVBQUUsQ0FBQyxDQUFDLEVBQUUsS0FBSyxFQUFFLFFBQVEsRUFBQyxDQUFDLENBQUE7WUFDeEQsQ0FBQztRQUNILENBQUM7UUFDRCxZQUFZLENBQUMsYUFBYSxFQUFFLENBQUMsQ0FBQyxFQUFFLEVBQUUsRUFBRSxDQUFDLENBQUMsRUFBRSxDQUFDLEdBQUcsRUFBRSxHQUFHLEVBQUUsR0FBRyxDQUFDLEVBQUUsRUFBQyxTQUFTLFdBQUEsRUFBRSxRQUFRLEVBQUUsRUFBRSxFQUFDLENBQUMsQ0FBQTtJQUNyRixDQUFDO0lBRXNCLG9CQUFJIiwic291cmNlc0NvbnRlbnQiOlsiZGVjbGFyZSBpbnRlcmZhY2UgV2luZG93IHtcbiAgICAvL3JlbmRlckN1YmUoaWQ6IHN0cmluZywgeDogbnVtYmVyLCB5OiBudW1iZXIsIHo6IG51bWJlcik6IHZvaWRcbiAgICAvL3JlbmRlck1hdHJpeChpZDogc3RyaW5nLCB4OiBudW1iZXIsIHk6IG51bWJlcik6IHZvaWRcbn1cblxuaW50ZXJmYWNlIEhpZ2hsaWdodCB7XG4gICAgcG9zaXRpb246IG51bWJlcltdLFxuICAgIHRvcD86IHN0cmluZyxcbiAgICBmcm9udDogc3RyaW5nLFxuICAgIHNpZGU/OiBzdHJpbmcsXG4gIH1cbiAgXG4gIGludGVyZmFjZSBQb2ludCB7XG4gICAgeDogbnVtYmVyXG4gICAgeTogbnVtYmVyXG59XG5cblxuaW50ZXJmYWNlIE9wdGlvbnMge1xuICAgIGhpZ2hsaWdodD86IEhpZ2hsaWdodFtdXG4gICAgY2VsbFNpemU/OiBudW1iZXJcbn0iLCJjb25zdCBFTExJUFNFUyA9ICfigKYnXG5cbmNvbnN0IFNWR19OUyA9IFwiaHR0cDovL3d3dy53My5vcmcvMjAwMC9zdmdcIlxuXG5leHBvcnQge0VMTElQU0VTLCBTVkdfTlN9IiwiYWJzdHJhY3QgY2xhc3MgVGVuc29yIHtcbiAgICBwYXJlbnQ6IEhUTUxFbGVtZW50XG4gICAgY29udGVudDogU1ZHRWxlbWVudFxuICAgIGVsZW06IFNWR0dFbGVtZW50XG4gICAgc2l6ZTogbnVtYmVyW11cbiAgICBlbmQ6IHN0cmluZ1tdXG4gICAgZnVsbFNpemU6IG51bWJlcltdXG4gICAgaGlnaGxpZ2h0OiB7IFtwb3NpdGlvbjogc3RyaW5nXTogSGlnaGxpZ2h0IH0gPSB7fVxuICAgIGNlbGxTaXplOiBudW1iZXIgPSAxNVxuXG4gICAgY29uc3RydWN0b3Ioc2l6ZTogbnVtYmVyW10sIGVuZDogc3RyaW5nW10sIG9wdGlvbnM6IE9wdGlvbnMsIHBhcmVudDogSFRNTEVsZW1lbnQpIHtcbiAgICAgICAgdGhpcy5wYXJlbnQgPSBwYXJlbnRcbiAgICAgICAgdGhpcy5zaXplID0gc2l6ZVxuICAgICAgICB0aGlzLmVuZCA9IGVuZFxuICAgICAgICBpZiAob3B0aW9ucy5oaWdobGlnaHQgIT0gbnVsbCkge1xuICAgICAgICAgICAgZm9yIChsZXQgaCBvZiBvcHRpb25zLmhpZ2hsaWdodCkge1xuICAgICAgICAgICAgICAgIGxldCBwID0gaC5wb3NpdGlvbi5qb2luKCdfJylcbiAgICAgICAgICAgICAgICB0aGlzLmhpZ2hsaWdodFtwXSA9IGhcbiAgICAgICAgICAgIH1cbiAgICAgICAgfVxuICAgICAgICBpZiAob3B0aW9ucy5jZWxsU2l6ZSAhPSBudWxsKSB7XG4gICAgICAgICAgICB0aGlzLmNlbGxTaXplID0gb3B0aW9ucy5jZWxsU2l6ZVxuICAgICAgICB9XG5cbiAgICAgICAgdGhpcy5mdWxsU2l6ZSA9IFtdXG4gICAgICAgIGZvciAobGV0IGkgPSAwOyBpIDwgc2l6ZS5sZW5ndGg7ICsraSkge1xuICAgICAgICAgICAgdGhpcy5mdWxsU2l6ZS5wdXNoKHNpemVbaV0gKyAoZW5kW2ldID09IG51bGwgPyAwIDogMikpXG4gICAgICAgIH1cbiAgICB9XG5cbiAgICBhYnN0cmFjdCByZW5kZXIoKTogdm9pZFxufVxuXG5leHBvcnQgeyBUZW5zb3IgfSIsImltcG9ydCB7IEVMTElQU0VTLCBTVkdfTlMgfSBmcm9tIFwiLi9jb25zdHNcIlxuaW1wb3J0IHsgVGVuc29yIH0gZnJvbSBcIi4vdGVuc29yXCI7XG5cblxuaW50ZXJmYWNlIENlbGxIYXNGYWNlcyB7XG4gICAgdG9wOiBib29sZWFuLFxuICAgIGZyb250OiBib29sZWFuLFxuICAgIHNpZGU6IGJvb2xlYW5cbn1cblxuY2xhc3MgQ2VsbDNEIHtcbiAgICBwYXJlbnQ6IFNWR0dFbGVtZW50XG4gICAgZWxlbTogU1ZHR0VsZW1lbnRcbiAgICB0b3BGYWNlOiBTVkdFbGVtZW50XG4gICAgZnJvbnRGYWNlOiBTVkdFbGVtZW50XG4gICAgc2lkZUZhY2U6IFNWR0VsZW1lbnRcbiAgICBjZWxsOiBudW1iZXJbXVxuICAgIGhpZ2hsaWdodDogSGlnaGxpZ2h0XG4gICAgdGVuc29yOiBUZW5zb3IzRFxuXG4gICAgY29uc3RydWN0b3IoY2VsbDogbnVtYmVyW10sIGhpZ2hsaWdodDogSGlnaGxpZ2h0LCB0ZW5zb3I6IFRlbnNvcjNELCBwYXJlbnQ6IFNWR0dFbGVtZW50KSB7XG4gICAgICAgIHRoaXMucGFyZW50ID0gcGFyZW50XG4gICAgICAgIHRoaXMuaGlnaGxpZ2h0ID0gaGlnaGxpZ2h0XG4gICAgICAgIHRoaXMudGVuc29yID0gdGVuc29yXG4gICAgICAgIHRoaXMuY2VsbCA9IGNlbGxcbiAgICB9XG5cbiAgICBwcml2YXRlIGdldEhpZ2hsaWdodChmYWNlOiBzdHJpbmcpOiBzdHJpbmcge1xuICAgICAgICBpZiAodGhpcy5oaWdobGlnaHQgPT0gbnVsbCkge1xuICAgICAgICAgICAgcmV0dXJuIG51bGxcbiAgICAgICAgfVxuICAgICAgICBzd2l0Y2ggKGZhY2UpIHtcbiAgICAgICAgICAgIGNhc2UgJ2Zyb250JzpcbiAgICAgICAgICAgICAgICByZXR1cm4gdGhpcy5oaWdobGlnaHQuZnJvbnRcbiAgICAgICAgICAgIGNhc2UgJ3NpZGUnOlxuICAgICAgICAgICAgICAgIHJldHVybiB0aGlzLmhpZ2hsaWdodC5zaWRlXG4gICAgICAgICAgICBkZWZhdWx0OlxuICAgICAgICAgICAgICAgIHJldHVybiB0aGlzLmhpZ2hsaWdodC50b3BcbiAgICAgICAgfVxuICAgIH1cbiAgICByZW5kZXIoaGFzRmFjZXM6IENlbGxIYXNGYWNlcykge1xuICAgICAgICBsZXQgeCA9IHRoaXMuY2VsbFswXVxuICAgICAgICBsZXQgeSA9IHRoaXMuY2VsbFsxXVxuICAgICAgICBsZXQgeiA9IHRoaXMuY2VsbFsyXVxuICAgICAgICB0aGlzLnJlbmRlckNlbGxDb250YWluZXIoKVxuXG4gICAgICAgIGlmIChoYXNGYWNlcy50b3ApIHtcbiAgICAgICAgICAgIHRoaXMudG9wRmFjZSA9IHRoaXMucmVuZGVyRmFjZShcbiAgICAgICAgICAgICAgICBbdGhpcy50ZW5zb3IuZ2V0UG9pbnQoeCwgeSwgeiksXG4gICAgICAgICAgICAgICAgdGhpcy50ZW5zb3IuZ2V0UG9pbnQoeCwgeSwgeiArIDEpLFxuICAgICAgICAgICAgICAgIHRoaXMudGVuc29yLmdldFBvaW50KHggKyAxLCB5LCB6ICsgMSksXG4gICAgICAgICAgICAgICAgdGhpcy50ZW5zb3IuZ2V0UG9pbnQoeCArIDEsIHksIHopXSxcbiAgICAgICAgICAgICAgICBcInRvcFwiLFxuICAgICAgICAgICAgICAgIHRoaXMuZ2V0SGlnaGxpZ2h0KCd0b3AnKVxuICAgICAgICAgICAgKVxuICAgICAgICAgICAgdGhpcy5lbGVtLmFwcGVuZENoaWxkKHRoaXMudG9wRmFjZSk7XG4gICAgICAgIH1cblxuICAgICAgICBpZiAoaGFzRmFjZXMuZnJvbnQpIHtcbiAgICAgICAgICAgIHRoaXMuZnJvbnRGYWNlID0gdGhpcy5yZW5kZXJGYWNlKFxuICAgICAgICAgICAgICAgIFt0aGlzLnRlbnNvci5nZXRQb2ludCh4LCB5LCB6KSxcbiAgICAgICAgICAgICAgICB0aGlzLnRlbnNvci5nZXRQb2ludCh4LCB5ICsgMSwgeiksXG4gICAgICAgICAgICAgICAgdGhpcy50ZW5zb3IuZ2V0UG9pbnQoeCArIDEsIHkgKyAxLCB6KSxcbiAgICAgICAgICAgICAgICB0aGlzLnRlbnNvci5nZXRQb2ludCh4ICsgMSwgeSwgeildLFxuICAgICAgICAgICAgICAgIFwiZnJvbnRcIixcbiAgICAgICAgICAgICAgICB0aGlzLmdldEhpZ2hsaWdodCgnZnJvbnQnKVxuICAgICAgICAgICAgKVxuICAgICAgICAgICAgdGhpcy5lbGVtLmFwcGVuZENoaWxkKHRoaXMuZnJvbnRGYWNlKTtcbiAgICAgICAgfVxuXG4gICAgICAgIGlmIChoYXNGYWNlcy5zaWRlKSB7XG4gICAgICAgICAgICB0aGlzLnNpZGVGYWNlID0gdGhpcy5yZW5kZXJGYWNlKFxuICAgICAgICAgICAgICAgIFt0aGlzLnRlbnNvci5nZXRQb2ludCh4ICsgMSwgeSwgeiksXG4gICAgICAgICAgICAgICAgdGhpcy50ZW5zb3IuZ2V0UG9pbnQoeCArIDEsIHkgKyAxLCB6KSxcbiAgICAgICAgICAgICAgICB0aGlzLnRlbnNvci5nZXRQb2ludCh4ICsgMSwgeSArIDEsIHogKyAxKSxcbiAgICAgICAgICAgICAgICB0aGlzLnRlbnNvci5nZXRQb2ludCh4ICsgMSwgeSwgeiArIDEpXSxcbiAgICAgICAgICAgICAgICBcInNpZGVcIixcbiAgICAgICAgICAgICAgICB0aGlzLmdldEhpZ2hsaWdodCgnc2lkZScpXG4gICAgICAgICAgICApXG4gICAgICAgICAgICB0aGlzLmVsZW0uYXBwZW5kQ2hpbGQodGhpcy5zaWRlRmFjZSk7XG4gICAgICAgIH1cbiAgICB9XG5cbiAgICBwcml2YXRlIHJlbmRlckZhY2UocG9pbnRzOiBQb2ludFtdLCBjc3NDbGFzczogc3RyaW5nLCBoaWdobGlnaHQ6IHN0cmluZyk6IFNWR0VsZW1lbnQge1xuICAgICAgICBsZXQgZmFjZSA9IGRvY3VtZW50LmNyZWF0ZUVsZW1lbnROUyhTVkdfTlMsIFwicG9seWdvblwiKVxuXG4gICAgICAgIGZhY2UuY2xhc3NMaXN0LmFkZChcImZiZWctZmFjZVwiKVxuICAgICAgICBmYWNlLmNsYXNzTGlzdC5hZGQoYGZiZWctZmFjZS0ke2Nzc0NsYXNzfWApXG5cbiAgICAgICAgbGV0IHBvaW50c1N0ciA9IFwiXCJcbiAgICAgICAgZm9yIChsZXQgcCBvZiBwb2ludHMpIHtcbiAgICAgICAgICAgIHBvaW50c1N0ciArPSBgJHtwLnh9LCR7cC55fSBgXG4gICAgICAgIH1cbiAgICAgICAgZmFjZS5zZXRBdHRyaWJ1dGUoXCJwb2ludHNcIiwgcG9pbnRzU3RyKVxuICAgICAgICBpZiAoaGlnaGxpZ2h0ICE9IG51bGwpIHtcbiAgICAgICAgICAgIGZhY2Uuc3R5bGUuZmlsbCA9IGhpZ2hsaWdodFxuICAgICAgICB9XG4gICAgICAgIHJldHVybiBmYWNlXG4gICAgfVxuXG4gICAgcmVuZGVyTGFiZWwoZmFjZTogc3RyaW5nLCBsYWJlbDogc3RyaW5nLCBjZWxsU2l6ZTogbnVtYmVyKSB7XG4gICAgICAgIGxldCB4ID0gdGhpcy5jZWxsWzBdXG4gICAgICAgIGxldCB5ID0gdGhpcy5jZWxsWzFdXG4gICAgICAgIGxldCB6ID0gdGhpcy5jZWxsWzJdXG5cbiAgICAgICAgdGhpcy5yZW5kZXJDZWxsQ29udGFpbmVyKClcblxuICAgICAgICBsZXQgdGV4dCA9IGRvY3VtZW50LmNyZWF0ZUVsZW1lbnROUyhTVkdfTlMsIFwidGV4dFwiKVxuICAgICAgICBsZXQgZm9udFNpemUgPSBNYXRoLnJvdW5kKGNlbGxTaXplICogMC42KVxuICAgICAgICBsZXQgcDogUG9pbnRcbiAgICAgICAgc3dpdGNoIChmYWNlKSB7XG4gICAgICAgICAgICBjYXNlIFwidG9wXCI6XG4gICAgICAgICAgICAgICAgdGhpcy50b3BGYWNlID0gdGV4dFxuICAgICAgICAgICAgICAgIHAgPSB0aGlzLnRlbnNvci5nZXRQb2ludCh4ICsgMC41LCB5ICsgMC41LCB6KVxuICAgICAgICAgICAgICAgIHAueSAtPSBmb250U2l6ZSArIDFcbiAgICAgICAgICAgICAgICBicmVhaztcbiAgICAgICAgICAgIGNhc2UgXCJzaWRlXCI6XG4gICAgICAgICAgICAgICAgdGhpcy5zaWRlRmFjZSA9IHRleHRcbiAgICAgICAgICAgICAgICBwID0gdGhpcy50ZW5zb3IuZ2V0UG9pbnQoeCArIDEsIHkgKyAwLjUsIHogKyAwLjUpXG4gICAgICAgICAgICAgICAgcC55IC09IGZvbnRTaXplICsgMVxuICAgICAgICAgICAgICAgIGJyZWFrO1xuICAgICAgICAgICAgZGVmYXVsdDpcbiAgICAgICAgICAgICAgICB0aGlzLmZyb250RmFjZSA9IHRleHRcbiAgICAgICAgICAgICAgICBwID0gdGhpcy50ZW5zb3IuZ2V0UG9pbnQoeCArIDAuNSwgeSArIDAuNSwgeilcbiAgICAgICAgICAgICAgICBwLnggLT0gY2VsbFNpemVcbiAgICAgICAgICAgICAgICBicmVhaztcbiAgICAgICAgfVxuICAgICAgICB0ZXh0LnNldEF0dHJpYnV0ZSgneCcsIGAke3AueH1weGApXG4gICAgICAgIHRleHQuc2V0QXR0cmlidXRlKCd5JywgYCR7cC55fXB4YClcbiAgICAgICAgdGV4dC5zdHlsZS5mb250U2l6ZSA9IGAke2ZvbnRTaXplfXB4YFxuXG4gICAgICAgIHRleHQuY2xhc3NMaXN0LmFkZChgZmJlZy1sYWJlbGApXG4gICAgICAgIC8vdGV4dC5jbGFzc0xpc3QuYWRkKGBmYmVnLWZhY2VgKVxuICAgICAgICB0ZXh0LmNsYXNzTGlzdC5hZGQoYGZiZWctZmFjZS1sYWJlbC0ke2ZhY2V9YClcbiAgICAgICAgdGV4dC50ZXh0Q29udGVudCA9IGxhYmVsXG4gICAgICAgIHRoaXMuZWxlbS5hcHBlbmRDaGlsZCh0ZXh0KVxuICAgIH1cblxuICAgIHByaXZhdGUgcmVuZGVyQ2VsbENvbnRhaW5lcigpIHtcbiAgICAgICAgdGhpcy5lbGVtID0gZG9jdW1lbnQuY3JlYXRlRWxlbWVudE5TKFNWR19OUywgXCJnXCIpXG4gICAgICAgIHRoaXMuZWxlbS5jbGFzc0xpc3QuYWRkKFwiZmJlZy1jZWxsXCIpXG4gICAgICAgIHRoaXMucGFyZW50LmFwcGVuZENoaWxkKHRoaXMuZWxlbSlcbiAgICB9XG59XG5cbmNsYXNzIFRlbnNvcjNEIGV4dGVuZHMgVGVuc29yIHtcbiAgICBjb25zdHJ1Y3RvcihzaXplOiBudW1iZXJbXSwgZW5kOiBzdHJpbmdbXSwgb3B0aW9uczogT3B0aW9ucywgcGFyZW50OiBIVE1MRWxlbWVudCkge1xuICAgICAgICBzdXBlcihzaXplLCBlbmQsIG9wdGlvbnMsIHBhcmVudClcbiAgICB9XG5cbiAgICBnZXRQb2ludCh4OiBudW1iZXIsIHk6IG51bWJlciwgejogbnVtYmVyKTogUG9pbnQge1xuICAgICAgICBsZXQgYW5nbGVYID0gTWF0aC5QSSAvIDEyXG4gICAgICAgIGxldCBhbmdsZVogPSBNYXRoLlBJIC8gOVxuICAgICAgICBsZXQgZHggPSB4ICogTWF0aC5jb3MoYW5nbGVYKSArIHogKiBNYXRoLmNvcyhhbmdsZVopO1xuICAgICAgICBsZXQgZHkgPSB4ICogTWF0aC5zaW4oYW5nbGVYKSAtIHogKiBNYXRoLnNpbihhbmdsZVopICsgeTtcblxuICAgICAgICByZXR1cm4geyB4OiBkeCAqIHRoaXMuY2VsbFNpemUsIHk6IGR5ICogdGhpcy5jZWxsU2l6ZSB9XG4gICAgfVxuXG4gICAgcmVuZGVyKCkge1xuICAgICAgICB0aGlzLnJlbmRlckZyYW1lKCk7XG4gICAgICAgIHRoaXMucmVuZGVyQ2VsbHMoKTtcbiAgICAgICAgdGhpcy5yZW5kZXJMYWJlbHMoMCwgJ3RvcCcpO1xuICAgICAgICB0aGlzLnJlbmRlckxhYmVscygxLCAnZnJvbnQnKTtcbiAgICAgICAgdGhpcy5yZW5kZXJMYWJlbHMoMiwgJ3NpZGUnKTtcbiAgICB9XG5cbiAgICBwcm90ZWN0ZWQgcmVuZGVyRnJhbWUoKSB7XG4gICAgICAgIHRoaXMuY29udGVudCA9IGRvY3VtZW50LmNyZWF0ZUVsZW1lbnROUyhTVkdfTlMsIFwic3ZnXCIpXG4gICAgICAgIHRoaXMuY29udGVudC5jbGFzc0xpc3QuYWRkKFwiZmJlZy0zZC1jb250ZW50XCIpXG4gICAgICAgIHRoaXMucGFyZW50LmFwcGVuZENoaWxkKHRoaXMuY29udGVudClcblxuICAgICAgICB0aGlzLmVsZW0gPSBkb2N1bWVudC5jcmVhdGVFbGVtZW50TlMoU1ZHX05TLCBcImdcIilcbiAgICAgICAgdGhpcy5lbGVtLmNsYXNzTGlzdC5hZGQoXCJmYmVnLTNkXCIpXG4gICAgICAgIHRoaXMuY29udGVudC5hcHBlbmRDaGlsZCh0aGlzLmVsZW0pXG5cbiAgICAgICAgbGV0IFggPSB0aGlzLmZ1bGxTaXplWzBdXG4gICAgICAgIGxldCBZID0gdGhpcy5mdWxsU2l6ZVsxXVxuICAgICAgICBsZXQgWiA9IHRoaXMuZnVsbFNpemVbMl1cblxuICAgICAgICB0aGlzLmNvbnRlbnQuc3R5bGUud2lkdGggPSBgJHt0aGlzLmdldFBvaW50KFgsIDAsIFopLnggLSB0aGlzLmdldFBvaW50KC0xLCAwLCAwKS54fXB4YFxuICAgICAgICB0aGlzLmNvbnRlbnQuc3R5bGUuaGVpZ2h0ID0gYCR7dGhpcy5nZXRQb2ludChYLCBZLCAwKS55IC0gdGhpcy5nZXRQb2ludCgwLCAwLCBaKS55fXB4YFxuICAgICAgICBjb25zb2xlLmxvZyhgdHJhbnNsYXRlKCR7dGhpcy5nZXRQb2ludCgtMSwgMCwgMCkueH0sICR7LXRoaXMuZ2V0UG9pbnQoMCwgMCwgWikueX0pYClcbiAgICAgICAgdGhpcy5lbGVtLnN0eWxlLnRyYW5zZm9ybSA9IGB0cmFuc2xhdGUoJHstdGhpcy5nZXRQb2ludCgtMSwgMCwgMCkueH1weCwgJHstdGhpcy5nZXRQb2ludCgwLCAwLCBaKS55fXB4KWBcbiAgICB9XG5cbiAgICBwcml2YXRlIGdldEZhY2VzKGNlbGw6IG51bWJlcltdKTogQ2VsbEhhc0ZhY2VzIHtcbiAgICAgICAgbGV0IGZhY2VzOiBDZWxsSGFzRmFjZXMgPSB7XG4gICAgICAgICAgICB0b3A6IGNlbGxbMV0gPT0gMCxcbiAgICAgICAgICAgIGZyb250OiBjZWxsWzJdID09IDAsXG4gICAgICAgICAgICBzaWRlOiBjZWxsWzBdID09IHRoaXMuZnVsbFNpemVbMF0gLSAxXG4gICAgICAgIH1cbiAgICAgICAgZm9yIChsZXQgaSA9IDA7IGkgPCAzOyArK2kpIHtcbiAgICAgICAgICAgIGxldCBjID0gY2VsbFtpXVxuICAgICAgICAgICAgbGV0IGYgPSB0aGlzLmZ1bGxTaXplW2ldXG4gICAgICAgICAgICBpZiAodGhpcy5lbmRbaV0gPT0gbnVsbCkge1xuICAgICAgICAgICAgICAgIGNvbnRpbnVlXG4gICAgICAgICAgICB9XG5cbiAgICAgICAgICAgIGlmIChjID09IGYgLSAyKSB7XG4gICAgICAgICAgICAgICAgcmV0dXJuIG51bGxcbiAgICAgICAgICAgIH1cblxuICAgICAgICAgICAgaWYgKGkgPT0gMCAmJiBjID09IGYgLSAzKSB7XG4gICAgICAgICAgICAgICAgZmFjZXMuc2lkZSA9IHRydWVcbiAgICAgICAgICAgIH0gZWxzZSBpZiAoaSA9PSAxICYmIGMgPT0gZiAtIDEpIHtcbiAgICAgICAgICAgICAgICBmYWNlcy50b3AgPSB0cnVlXG4gICAgICAgICAgICB9IGVsc2UgaWYgKGkgPT0gMiAmJiBjID09IGYgLSAxKSB7XG4gICAgICAgICAgICAgICAgZmFjZXMuZnJvbnQgPSB0cnVlXG4gICAgICAgICAgICB9XG4gICAgICAgIH1cblxuICAgICAgICBpZiAoIWZhY2VzLnRvcCAmJiAhZmFjZXMuZnJvbnQgJiYgIWZhY2VzLnNpZGUpIHtcbiAgICAgICAgICAgIHJldHVybiBudWxsXG4gICAgICAgIH1cblxuICAgICAgICByZXR1cm4gZmFjZXNcbiAgICB9XG5cbiAgICBwcm90ZWN0ZWQgcmVuZGVyQ2VsbHMoKSB7XG4gICAgICAgIGxldCBmYWNlcyA9IG5ldyBBcnJheTxib29sZWFuPig2KVxuXG4gICAgICAgIGxldCBjID0gWzAsIDAsIC0xXVxuICAgICAgICB3aGlsZSAodHJ1ZSkge1xuICAgICAgICAgICAgY1syXSsrXG4gICAgICAgICAgICBmb3IgKGxldCBpID0gMjsgaSA+IDA7IC0taSkge1xuICAgICAgICAgICAgICAgIGlmIChjW2ldID49IHRoaXMuZnVsbFNpemVbaV0pIHtcbiAgICAgICAgICAgICAgICAgICAgY1tpXSA9IDBcbiAgICAgICAgICAgICAgICAgICAgY1tpIC0gMV0rK1xuICAgICAgICAgICAgICAgIH1cbiAgICAgICAgICAgIH1cblxuICAgICAgICAgICAgaWYgKGNbMF0gPj0gdGhpcy5mdWxsU2l6ZVswXSkge1xuICAgICAgICAgICAgICAgIGJyZWFrXG4gICAgICAgICAgICB9XG5cbiAgICAgICAgICAgIGxldCBmYWNlcyA9IHRoaXMuZ2V0RmFjZXMoYylcbiAgICAgICAgICAgIGlmIChmYWNlcyA9PSBudWxsKSB7XG4gICAgICAgICAgICAgICAgY29udGludWVcbiAgICAgICAgICAgIH1cblxuICAgICAgICAgICAgbGV0IHAgPSBjLmpvaW4oJ18nKVxuICAgICAgICAgICAgbGV0IGNlbGwgPSBuZXcgQ2VsbDNEKGMsIHRoaXMuaGlnaGxpZ2h0W3BdLCB0aGlzLCB0aGlzLmVsZW0pXG4gICAgICAgICAgICBjZWxsLnJlbmRlcihmYWNlcylcbiAgICAgICAgfVxuICAgIH1cblxuICAgIHByb3RlY3RlZCByZW5kZXJMYWJlbHMoZDogbnVtYmVyLCBmYWNlOiBzdHJpbmcpIHtcbiAgICAgICAgZm9yIChsZXQgeCA9IDA7IHggPCB0aGlzLmZ1bGxTaXplW2RdOyArK3gpIHtcbiAgICAgICAgICAgIGxldCBsYWJlbCA9IGAke3h9YFxuICAgICAgICAgICAgaWYgKHRoaXMuZW5kW2RdICE9IG51bGwpIHtcbiAgICAgICAgICAgICAgICBpZiAoeCA9PSB0aGlzLmZ1bGxTaXplW2RdIC0gMikgbGFiZWwgPSBFTExJUFNFU1xuICAgICAgICAgICAgICAgIGlmICh4ID09IHRoaXMuZnVsbFNpemVbZF0gIC0gMSkgbGFiZWwgPSB0aGlzLmVuZFtkXVxuICAgICAgICAgICAgfVxuXG4gICAgICAgICAgICBsZXQgYyA9IFswLCAwLCAwXVxuICAgICAgICAgICAgY1tkXSA9IHhcbiAgICAgICAgICAgIGlmKGQgPT0gMikge1xuICAgICAgICAgICAgICAgIGNbMF0gPSB0aGlzLmZ1bGxTaXplWzBdIC0gMVxuICAgICAgICAgICAgfVxuICAgICAgICAgICAgbGV0IGNlbGwgPSBuZXcgQ2VsbDNEKGMsIG51bGwsIHRoaXMsIHRoaXMuZWxlbSlcbiAgICAgICAgICAgIGNlbGwucmVuZGVyTGFiZWwoZmFjZSwgbGFiZWwsIHRoaXMuY2VsbFNpemUpXG4gICAgICAgIH1cbiAgICB9XG59XG5cbmV4cG9ydCB7IFRlbnNvcjNEIH0iLCJpbXBvcnQgeyBFTExJUFNFUywgU1ZHX05TIH0gZnJvbSBcIi4vY29uc3RzXCJcbmltcG9ydCB7IFRlbnNvciB9IGZyb20gXCIuL3RlbnNvclwiO1xuXG5jbGFzcyBDZWxsMkQge1xuICAgIHBhcmVudDogU1ZHR0VsZW1lbnRcbiAgICBlbGVtOiBTVkdFbGVtZW50XG4gICAgY2VsbDogbnVtYmVyW11cbiAgICB0ZW5zb3I6IFRlbnNvcjJEXG4gICAgaGlnaGxpZ2h0OiBIaWdobGlnaHRcblxuICAgIGNvbnN0cnVjdG9yKGNlbGw6IG51bWJlcltdLCBoaWdobGlnaHQ6IEhpZ2hsaWdodCwgdGVuc29yOiBUZW5zb3IyRCwgcGFyZW50OiBTVkdHRWxlbWVudCkge1xuICAgICAgICB0aGlzLnBhcmVudCA9IHBhcmVudFxuICAgICAgICB0aGlzLmNlbGwgPSBjZWxsXG4gICAgICAgIHRoaXMuaGlnaGxpZ2h0ID0gaGlnaGxpZ2h0XG4gICAgICAgIHRoaXMudGVuc29yID0gdGVuc29yXG4gICAgfVxuXG4gICAgcHJpdmF0ZSByZW5kZXJGYWNlKHBvaW50czogUG9pbnRbXSk6IFNWR0VsZW1lbnQge1xuICAgICAgICBsZXQgZmFjZSA9IGRvY3VtZW50LmNyZWF0ZUVsZW1lbnROUyhTVkdfTlMsIFwicG9seWdvblwiKVxuXG4gICAgICAgIGZhY2UuY2xhc3NMaXN0LmFkZChcImZiZWctZmFjZVwiKVxuXG4gICAgICAgIGxldCBwb2ludHNTdHIgPSBcIlwiXG4gICAgICAgIGZvciAobGV0IHAgb2YgcG9pbnRzKSB7XG4gICAgICAgICAgICBwb2ludHNTdHIgKz0gYCR7cC54fSwke3AueX0gYFxuICAgICAgICB9XG4gICAgICAgIGZhY2Uuc2V0QXR0cmlidXRlKFwicG9pbnRzXCIsIHBvaW50c1N0cilcbiAgICAgICAgaWYodGhpcy5oaWdobGlnaHQgIT0gbnVsbCAmJiB0aGlzLmhpZ2hsaWdodC5mcm9udCAhPSBudWxsKSB7XG4gICAgICAgICAgICBmYWNlLnN0eWxlLmZpbGwgPSB0aGlzLmhpZ2hsaWdodC5mcm9udFxuICAgICAgICB9XG4gICAgICAgIHJldHVybiBmYWNlXG4gICAgfVxuXG4gICAgcmVuZGVyKCkge1xuICAgICAgICBsZXQgeCA9IHRoaXMuY2VsbFswXVxuICAgICAgICBsZXQgeSA9IHRoaXMuY2VsbFsxXVxuICAgICAgICBsZXQgeiA9IHRoaXMuY2VsbFsyXVxuXG4gICAgICAgIHRoaXMuZWxlbSA9IHRoaXMucmVuZGVyRmFjZShcbiAgICAgICAgICAgIFt0aGlzLnRlbnNvci5nZXRQb2ludCh4LCB5KSxcbiAgICAgICAgICAgICAgICB0aGlzLnRlbnNvci5nZXRQb2ludCh4LCB5ICsgMSksXG4gICAgICAgICAgICAgICAgdGhpcy50ZW5zb3IuZ2V0UG9pbnQoeCArIDEsIHkgKyAxKSxcbiAgICAgICAgICAgICAgICB0aGlzLnRlbnNvci5nZXRQb2ludCh4ICsgMSwgeSldXG4gICAgICAgIClcbiAgICAgICAgdGhpcy5wYXJlbnQuYXBwZW5kQ2hpbGQodGhpcy5lbGVtKVxuICAgIH1cblxuICAgIHJlbmRlckxhYmVsKGZhY2U6IHN0cmluZywgbGFiZWw6IHN0cmluZywgY2VsbFNpemU6IG51bWJlcikge1xuICAgICAgICBsZXQgdGV4dCA9IGRvY3VtZW50LmNyZWF0ZUVsZW1lbnROUyhTVkdfTlMsIFwidGV4dFwiKVxuICAgICAgICBsZXQgeCA9IHRoaXMuY2VsbFswXVxuICAgICAgICBsZXQgeSA9IHRoaXMuY2VsbFsxXVxuICAgICAgICBcbiAgICAgICAgbGV0IHA6IFBvaW50XG4gICAgICAgIHN3aXRjaChmYWNlKSB7XG4gICAgICAgICAgICBjYXNlIFwidG9wXCI6XG4gICAgICAgICAgICAgICAgdGhpcy5lbGVtID0gdGV4dFxuICAgICAgICAgICAgICAgIHAgPSB0aGlzLnRlbnNvci5nZXRQb2ludCh4ICsgMC41LCB5KzAuNSlcbiAgICAgICAgICAgICAgICBwLnkgLT0gOVxuICAgICAgICAgICAgICAgIGJyZWFrO1xuICAgICAgICAgICAgZGVmYXVsdDpcbiAgICAgICAgICAgICAgICB0aGlzLmVsZW0gPSB0ZXh0XG4gICAgICAgICAgICAgICAgcCA9IHRoaXMudGVuc29yLmdldFBvaW50KHggKyAwLjUsIHkrMC41KVxuICAgICAgICAgICAgICAgIHAueCAtPSBjZWxsU2l6ZVxuICAgICAgICAgICAgICAgIHAueSArPSAyXG4gICAgICAgICAgICAgICAgYnJlYWs7XG4gICAgICAgIH1cbiAgICAgICAgdGV4dC5zZXRBdHRyaWJ1dGUoJ3gnLCBgJHtwLnh9cHhgKVxuICAgICAgICB0ZXh0LnNldEF0dHJpYnV0ZSgneScsIGAke3AueX1weGApXG5cbiAgICAgICAgdGV4dC5jbGFzc0xpc3QuYWRkKGBmYmVnLWxhYmVsYClcbiAgICAgICAgdGV4dC50ZXh0Q29udGVudCA9IGxhYmVsXG4gICAgICAgIHRoaXMucGFyZW50LmFwcGVuZENoaWxkKHRleHQpXG4gICAgfVxufVxuXG5jbGFzcyBUZW5zb3IyRCBleHRlbmRzIFRlbnNvciB7XG4gICAgY29uc3RydWN0b3Ioc2l6ZTogbnVtYmVyW10sIGVuZDogc3RyaW5nW10sIG9wdGlvbnM6IE9wdGlvbnMsIHBhcmVudDogSFRNTEVsZW1lbnQpIHtcbiAgICAgICAgc3VwZXIoc2l6ZSwgZW5kLCBvcHRpb25zLCBwYXJlbnQpXG4gICAgfVxuXG4gICAgZ2V0UG9pbnQoeDogbnVtYmVyLCB5OiBudW1iZXIpOiBQb2ludCB7XG4gICAgICAgIHJldHVybiB7IHg6IHggKiB0aGlzLmNlbGxTaXplLCB5OiB5ICogdGhpcy5jZWxsU2l6ZSB9XG4gICAgfVxuXG5cbiAgICByZW5kZXIoKSB7XG4gICAgICAgIHRoaXMucmVuZGVyRnJhbWUoKTtcbiAgICAgICAgdGhpcy5yZW5kZXJDZWxscygpO1xuICAgICAgICB0aGlzLnJlbmRlckxhYmVscygwKTtcbiAgICAgICAgdGhpcy5yZW5kZXJMYWJlbHMoMSk7XG4gICAgfVxuXG4gICAgcHJvdGVjdGVkIHJlbmRlckZyYW1lKCkge1xuICAgICAgICB0aGlzLmNvbnRlbnQgPSBkb2N1bWVudC5jcmVhdGVFbGVtZW50TlMoU1ZHX05TLCBcInN2Z1wiKVxuICAgICAgICB0aGlzLmNvbnRlbnQuY2xhc3NMaXN0LmFkZChcImZiZWctMmQtY29udGVudFwiKVxuICAgICAgICB0aGlzLnBhcmVudC5hcHBlbmRDaGlsZCh0aGlzLmNvbnRlbnQpXG5cbiAgICAgICAgdGhpcy5lbGVtID0gZG9jdW1lbnQuY3JlYXRlRWxlbWVudE5TKFNWR19OUywgXCJnXCIpXG4gICAgICAgIHRoaXMuZWxlbS5jbGFzc0xpc3QuYWRkKFwiZmJlZy0yZFwiKVxuICAgICAgICB0aGlzLmNvbnRlbnQuYXBwZW5kQ2hpbGQodGhpcy5lbGVtKVxuXG4gICAgICAgIGxldCBYID0gdGhpcy5mdWxsU2l6ZVswXVxuICAgICAgICBsZXQgWSA9IHRoaXMuZnVsbFNpemVbMV1cblxuICAgICAgICB0aGlzLmNvbnRlbnQuc3R5bGUud2lkdGggPSBgJHt0aGlzLmdldFBvaW50KFgsIDApLnggLSB0aGlzLmdldFBvaW50KC0xLCAwKS54fXB4YFxuICAgICAgICB0aGlzLmNvbnRlbnQuc3R5bGUuaGVpZ2h0ID0gYCR7dGhpcy5nZXRQb2ludCgwLCBZKS55IC0gdGhpcy5nZXRQb2ludCgwLCAtMSkueX1weGBcbiAgICAgICAgdGhpcy5lbGVtLnN0eWxlLnRyYW5zZm9ybSA9IGB0cmFuc2xhdGUoJHstdGhpcy5nZXRQb2ludCgtMSwgMCkueH1weCwgJHstdGhpcy5nZXRQb2ludCgwLCAtMSkueX1weClgXG4gICAgfVxuXG4gICAgcHJvdGVjdGVkIHJlbmRlckNlbGxzKCkge1xuICAgICAgICBsZXQgWCA9IHRoaXMuZnVsbFNpemVbMF1cbiAgICAgICAgbGV0IFkgPSB0aGlzLmZ1bGxTaXplWzFdXG5cbiAgICAgICAgZm9yIChsZXQgeCA9IDA7IHggPCBYOyArK3gpIHtcbiAgICAgICAgICAgIGZvciAobGV0IHkgPSAwOyB5IDwgWTsgKyt5KSB7XG4gICAgICAgICAgICAgICAgaWYgKHRoaXMuZW5kWzBdICE9IG51bGwpIHtcbiAgICAgICAgICAgICAgICAgICAgaWYgKHggPT0gWCAtIDIpIGNvbnRpbnVlXG4gICAgICAgICAgICAgICAgfVxuICAgICAgICAgICAgICAgIGlmICh0aGlzLmVuZFsxXSAhPSBudWxsKSB7XG4gICAgICAgICAgICAgICAgICAgIGlmICh5ID09IFkgLSAyKSBjb250aW51ZVxuICAgICAgICAgICAgICAgIH1cblxuICAgICAgICAgICAgICAgIGxldCBwID0gYCR7eH1fJHt5fWBcblxuICAgICAgICAgICAgICAgIGxldCBjZWxsID0gbmV3IENlbGwyRChbeCwgeV0sIHRoaXMuaGlnaGxpZ2h0W3BdLCB0aGlzLCB0aGlzLmVsZW0pXG4gICAgICAgICAgICAgICAgY2VsbC5yZW5kZXIoKVxuICAgICAgICAgICAgfVxuICAgICAgICB9XG4gICAgfVxuXG4gICAgcHJvdGVjdGVkIHJlbmRlckxhYmVscyhkOiBudW1iZXIpIHtcbiAgICAgICAgZm9yIChsZXQgeCA9IDA7IHggPCB0aGlzLmZ1bGxTaXplW2RdOyArK3gpIHtcbiAgICAgICAgICAgIGxldCBsYWJlbCA9IGAke3h9YFxuICAgICAgICAgICAgaWYgKHRoaXMuZW5kW2RdICE9IG51bGwpIHtcbiAgICAgICAgICAgICAgICBpZiAoeCA9PSB0aGlzLmZ1bGxTaXplW2RdIC0gMikgbGFiZWwgPSBFTExJUFNFU1xuICAgICAgICAgICAgICAgIGlmICh4ID09IHRoaXMuZnVsbFNpemVbZF0gLSAxKSBsYWJlbCA9IHRoaXMuZW5kW2RdXG4gICAgICAgICAgICB9XG4gICAgICAgICAgICBsZXQgYyA9IFswLCAwXVxuICAgICAgICAgICAgY1tkXSA9IHhcblxuICAgICAgICAgICAgbGV0IGNlbGwgPSBuZXcgQ2VsbDJEKGMsIG51bGwsIHRoaXMsIHRoaXMuZWxlbSlcbiAgICAgICAgICAgIGNlbGwucmVuZGVyTGFiZWwoXCJ0b3BcIiwgbGFiZWwsIHRoaXMuY2VsbFNpemUpXG4gICAgICAgIH1cbiAgICB9XG59XG5cblxuZXhwb3J0IHsgVGVuc29yMkQgfSIsImltcG9ydCB7IFRlbnNvcjJEIH0gZnJvbSBcIi4vdGVuc29yXzJkXCI7XG5cbmNsYXNzIFRlbnNvcjFEIGV4dGVuZHMgVGVuc29yMkQge1xuICAgIGNvbnN0cnVjdG9yKHNpemU6IG51bWJlcltdLCBlbmQ6IHN0cmluZ1tdLCBvcHRpb25zOiBPcHRpb25zLCBwYXJlbnQ6IEhUTUxFbGVtZW50KSB7XG4gICAgICAgIHN1cGVyKHNpemUuY29uY2F0KFsxXSksIGVuZC5jb25jYXQoW251bGxdKSwgb3B0aW9ucywgcGFyZW50KVxuICAgIH1cblxuICAgIHJlbmRlcigpIHtcbiAgICAgICAgdGhpcy5yZW5kZXJGcmFtZSgpO1xuICAgICAgICB0aGlzLnJlbmRlckNlbGxzKCk7XG4gICAgICAgIHRoaXMucmVuZGVyTGFiZWxzKDApO1xuICAgIH1cbn1cblxuZXhwb3J0IHsgVGVuc29yMUQgfSIsImltcG9ydCB7IFRlbnNvcjNEIH0gZnJvbSBcIi4vdGVuc29yXzNkXCI7XG5pbXBvcnQgeyBUZW5zb3IyRCB9IGZyb20gXCIuL3RlbnNvcl8yZFwiO1xuaW1wb3J0IHsgVGVuc29yIH0gZnJvbSBcIi4vdGVuc29yXCI7XG5pbXBvcnQgeyBUZW5zb3IxRCB9IGZyb20gXCIuL3RlbnNvcl8xZFwiO1xuXG5mdW5jdGlvbiBicmVha2Rvd25EaW1lbnNpb25zKGRpbWVuc2lvbnM6IGFueVtdKSB7XG4gIGxldCByZXN1bHQ6IG51bWJlcltdW10gPSBuZXcgQXJyYXk8bnVtYmVyW10+KCk7XG5cbiAgbGV0IGlzU3BlY2lmaWVkID0gZmFsc2U7XG4gIGZvciAobGV0IHYgb2YgZGltZW5zaW9ucykge1xuICAgIGlmICh0eXBlb2YgKHYpICE9IFwibnVtYmVyXCIpIHtcbiAgICAgIGlzU3BlY2lmaWVkID0gdHJ1ZTtcbiAgICB9XG4gIH1cblxuICBpZiAoaXNTcGVjaWZpZWQpIHtcbiAgICBmb3IgKGxldCB2IG9mIGRpbWVuc2lvbnMpIHtcbiAgICAgIGlmICh0eXBlb2YgKHYpID09IFwibnVtYmVyXCIpIHtcbiAgICAgICAgcmVzdWx0LnB1c2goW3ZdKTtcbiAgICAgIH0gZWxzZSB7XG4gICAgICAgIGlmICh2Lmxlbmd0aCA+IDApIHtcbiAgICAgICAgICByZXN1bHQucHVzaCh2KTtcbiAgICAgICAgfSBlbHNlIGlmKHYubGVuZ3RoID4gMykge1xuICAgICAgICAgIHJldHVybiBbXTtcbiAgICAgICAgfVxuICAgICAgfVxuICAgIH1cbiAgfSBlbHNlIHtcbiAgICBmb3IgKGxldCBpID0gMDsgaSA8IGRpbWVuc2lvbnMubGVuZ3RoIC0gMzsgKytpKSB7XG4gICAgICByZXN1bHQucHVzaChbZGltZW5zaW9uc1tpXV0pO1xuICAgIH1cbiAgICBsZXQgbGFzdCA9IG5ldyBBcnJheTxudW1iZXI+KCk7XG4gICAgZm9yIChsZXQgaSA9IE1hdGgubWF4KDAsIGRpbWVuc2lvbnMubGVuZ3RoIC0gMyk7IGkgPCBkaW1lbnNpb25zLmxlbmd0aDsgKytpKSB7XG4gICAgICBsYXN0LnB1c2goZGltZW5zaW9uc1tpXSk7XG4gICAgfVxuICAgIGlmIChsYXN0Lmxlbmd0aCA+IDApIHtcbiAgICAgIHJlc3VsdC5wdXNoKGxhc3QpO1xuICAgIH1cbiAgfVxuXG4gIHJldHVybiByZXN1bHQ7XG59XG5cbmZ1bmN0aW9uIHJlbmRlclRlbnNvcjIoaWQ6IHN0cmluZywgZGltZW5zaW9uczogYW55W10sIGhpZ2hsaWdodDogSGlnaGxpZ2h0W10pIHtcbiAgbGV0IGNvbnRhaW5lciA9IGRvY3VtZW50LmdldEVsZW1lbnRCeUlkKGlkKVxuICBpZiAoY29udGFpbmVyID09IG51bGwpIHtcbiAgICByZXR1cm5cbiAgfVxuICBjb250YWluZXIuY2xhc3NMaXN0LmFkZChcImZiZWctY29udGFpbmVyXCIpXG5cbiAgbGV0IGRpbWVuc2lvbnNCcmVha2Rvd24gPSBicmVha2Rvd25EaW1lbnNpb25zKGRpbWVuc2lvbnMpO1xuICBpZihkaW1lbnNpb25zQnJlYWtkb3duLmxlbmd0aCA8PSAwKSB7XG4gICAgcmV0dXJuXG4gIH1cblxuICBmb3IobGV0IGQgb2YgZGltZW5zaW9uc0JyZWFrZG93bikge1xuICAgIGxldCB0ZW5zb3I6IFRlbnNvclxuICAgIGlmKGQubGVuZ3RoID09IDEpIHtcbiAgICAgIHRlbnNvciA9IG5ldyBUZW5zb3IxRChbZFswXV0sIFsnTiddLCB7aGlnaGxpZ2h0fSwgY29udGFpbmVyKTtcbiAgICB9IGVsc2UgaWYoZC5sZW5ndGggPT0gMikge1xuICAgICAgdGVuc29yID0gbmV3IFRlbnNvcjJEKFtkWzBdLCBkWzFdXSwgWydOJywgbnVsbF0sIHtoaWdobGlnaHR9LCBjb250YWluZXIpO1xuICAgIH0gZWxzZSB7XG4gICAgICB0ZW5zb3IgPSBuZXcgVGVuc29yM0QoW2RbMF0sIGRbMV0sIGRbMl1dLCBbJ04nLCBudWxsLCAnTSddLCB7aGlnaGxpZ2h0fSwgY29udGFpbmVyKTsgICAgICBcbiAgICB9XG5cbiAgICB0ZW5zb3IucmVuZGVyKClcbiAgfVxufVxuXG5mdW5jdGlvbiByZW5kZXJUZW5zb3IoaWQ6IHN0cmluZywgZGltZW5zaW9uczogbnVtYmVyW10sIGVuZDogc3RyaW5nW10sIG9wdGlvbnM6IE9wdGlvbnMpIHtcbiAgbGV0IGNvbnRhaW5lciA9IGRvY3VtZW50LmdldEVsZW1lbnRCeUlkKGlkKVxuICBpZiAoY29udGFpbmVyID09IG51bGwpIHtcbiAgICByZXR1cm5cbiAgfVxuICBjb250YWluZXIuY2xhc3NMaXN0LmFkZChcImZiZWctY29udGFpbmVyXCIpXG5cbiAgICBsZXQgdGVuc29yOiBUZW5zb3JcbiAgICBpZihkaW1lbnNpb25zLmxlbmd0aCA9PSAxKSB7XG4gICAgICB0ZW5zb3IgPSBuZXcgVGVuc29yMUQoZGltZW5zaW9ucywgZW5kLCBvcHRpb25zLCBjb250YWluZXIpO1xuICAgIH0gZWxzZSBpZihkaW1lbnNpb25zLmxlbmd0aCA9PSAyKSB7XG4gICAgICB0ZW5zb3IgPSBuZXcgVGVuc29yMkQoZGltZW5zaW9ucywgZW5kLCBvcHRpb25zLCBjb250YWluZXIpO1xuICAgIH0gZWxzZSB7XG4gICAgICB0ZW5zb3IgPSBuZXcgVGVuc29yM0QoZGltZW5zaW9ucywgZW5kLCBvcHRpb25zLCBjb250YWluZXIpOyAgICAgIFxuICAgIH1cblxuICAgIHRlbnNvci5yZW5kZXIoKVxufVxuXG5mdW5jdGlvbiB0ZXN0MigpIHtcbiAgbGV0IGhpZ2hsaWdodDogSGlnaGxpZ2h0W10gPSBbXVxuICBmb3IobGV0IGkgPSAxOyBpIDwgMTA7IGkgKz0gMikge1xuICAgIGZvcihsZXQgaiA9IDE7IGogPCAxMDsgaiArPSAyKSB7XG4gICAgICBoaWdobGlnaHQucHVzaCh7cG9zaXRpb246IFtpLCBqLCAwXSwgZnJvbnQ6ICdyZWQnfSlcbiAgICB9XG4gIH1cbiAgZm9yKGxldCBpID0gMDsgaSA8IDM7ICsraSkge1xuICAgIGZvcihsZXQgaiA9IDA7IGogPCAzOyArK2opIHtcbiAgICAgIGlmKGkgPT0gMSAmJiBqID09IDEpIGNvbnRpbnVlO1xuICAgICAgaGlnaGxpZ2h0LnB1c2goe3Bvc2l0aW9uOiBbaSwgaiwgMF0sIGZyb250OiAnb3JhbmdlJ30pXG4gICAgfVxuICB9XG4gIHJlbmRlclRlbnNvcjIoXCJ0ZXN0aW5nLWRpdlwiLCBbWzIwXSwgWzQsIDRdLCBbNiwgMTIsIDNdXSwgaGlnaGxpZ2h0KVxufVxuXG5mdW5jdGlvbiB0ZXN0KCkge1xuICBsZXQgaGlnaGxpZ2h0OiBIaWdobGlnaHRbXSA9IFtdXG4gIGZvcihsZXQgaSA9IDE7IGkgPCAxMDsgaSArPSAyKSB7XG4gICAgZm9yKGxldCBqID0gMTsgaiA8IDEwOyBqICs9IDIpIHtcbiAgICAgIGhpZ2hsaWdodC5wdXNoKHtwb3NpdGlvbjogW2ksIGosIDBdLCBmcm9udDogJ3JlZCd9KVxuICAgIH1cbiAgfVxuICBmb3IobGV0IGkgPSAwOyBpIDwgMzsgKytpKSB7XG4gICAgZm9yKGxldCBqID0gMDsgaiA8IDM7ICsraikge1xuICAgICAgaWYoaSA9PSAxICYmIGogPT0gMSkgY29udGludWU7XG4gICAgICBoaWdobGlnaHQucHVzaCh7cG9zaXRpb246IFtpLCBqLCAwXSwgZnJvbnQ6ICdvcmFuZ2UnfSlcbiAgICB9XG4gIH1cbiAgcmVuZGVyVGVuc29yKFwidGVzdGluZy1kaXZcIiwgWzYsIDEyLCAzXSwgWydXJywgJ0gnLCAnWiddLCB7aGlnaGxpZ2h0LCBjZWxsU2l6ZTogMjB9KVxufVxuXG5leHBvcnQgeyByZW5kZXJUZW5zb3IsIHRlc3QgfVxuIl19</script>"
      ],
      "text/plain": [
       "<IPython.core.display.HTML object>"
      ]
     },
     "metadata": {},
     "output_type": "display_data"
    },
    {
     "data": {
      "text/html": [
       "<style>/** PLANE **/\n",
       ".fbeg-container * {\n",
       "  margin: 0 0;\n",
       "  padding: 0 0;\n",
       "  font-size: 0;\n",
       "  font-family: 'Arial', sans-serif;\n",
       "  user-select: none;\n",
       "  -webkit-user-select: none;\n",
       "  -moz-user-select: none;\n",
       "  border: none;\n",
       "  outline: none; }\n",
       "\n",
       ".fbeg-container .fbeg-2d-content {\n",
       "  margin-right: 20px; }\n",
       "  .fbeg-container .fbeg-2d-content .fbeg-2d .fbeg-face {\n",
       "    fill: #323232;\n",
       "    stroke: #666; }\n",
       "  .fbeg-container .fbeg-2d-content .fbeg-2d .fbeg-label {\n",
       "    font-family: 'Gill Sans', 'Gill Sans MT', Calibri, 'Trebuchet MS', sans-serif;\n",
       "    font-size: 10px;\n",
       "    text-anchor: middle;\n",
       "    line-height: 15px;\n",
       "    fill: #ccc; }\n",
       "\n",
       ".fbeg-container .fbeg-3d-content {\n",
       "  margin-right: 20px; }\n",
       "  .fbeg-container .fbeg-3d-content .fbeg-3d .fbeg-cell .fbeg-face {\n",
       "    fill: #464646;\n",
       "    stroke: #666; }\n",
       "  .fbeg-container .fbeg-3d-content .fbeg-3d .fbeg-cell .fbeg-label {\n",
       "    font-family: 'Gill Sans', 'Gill Sans MT', Calibri, 'Trebuchet MS', sans-serif;\n",
       "    font-size: 10px;\n",
       "    text-anchor: middle;\n",
       "    line-height: 15px;\n",
       "    fill: #ccc; }\n",
       "  .fbeg-container .fbeg-3d-content .fbeg-3d .fbeg-cell .fbeg-face-top {\n",
       "    fill: #464646; }\n",
       "  .fbeg-container .fbeg-3d-content .fbeg-3d .fbeg-cell .fbeg-face-front {\n",
       "    fill: #323232; }\n",
       "  .fbeg-container .fbeg-3d-content .fbeg-3d .fbeg-cell .fbeg-face-side {\n",
       "    fill: #1e1e1e; }\n",
       "</style>"
      ],
      "text/plain": [
       "<IPython.core.display.HTML object>"
      ]
     },
     "metadata": {},
     "output_type": "display_data"
    }
   ],
   "source": [
    "from for_beginners import tensorflow_wrapper as tfw\n",
    "from for_beginners.model import Model"
   ]
  },
  {
   "cell_type": "code",
   "execution_count": 2,
   "metadata": {
    "collapsed": true
   },
   "outputs": [],
   "source": [
    "import tensorflow as tf"
   ]
  },
  {
   "cell_type": "markdown",
   "metadata": {},
   "source": [
    "All the operations and variables are assigned to a model.\n",
    "This takes care of variable names, so that you don't have \n",
    "to explicitly specify `name=`."
   ]
  },
  {
   "cell_type": "code",
   "execution_count": null,
   "metadata": {
    "collapsed": true
   },
   "outputs": [],
   "source": [
    "from IPython.core.display import display,HTML,Markdown\n",
    "import random\n",
    "import string\n",
    "import json"
   ]
  },
  {
   "cell_type": "code",
   "execution_count": null,
   "metadata": {
    "collapsed": true
   },
   "outputs": [],
   "source": [
    "t = tf.placeholder(shape=[None, 100, 15, 1], dtype=tf.float32)"
   ]
  },
  {
   "cell_type": "code",
   "execution_count": null,
   "metadata": {
    "collapsed": true
   },
   "outputs": [],
   "source": [
    "def diagram_single_tensor(dimensions, end, options, css):\n",
    "    dom_id = ''.join(random.choices(string.ascii_lowercase, k=10))\n",
    "    dimensions = json.dumps(dimensions)\n",
    "    end = json.dumps(end)\n",
    "    options = json.dumps(options)\n",
    "    #print(options)\n",
    "    js = 'main.renderTensor(\"%s\", %s, %s, %s);' % (dom_id, dimensions, end, options)\n",
    "    js = 'require([\"main\"], function(main) { ' + js + ' });'\n",
    "\n",
    "    display(HTML('<div id=\"%s\" style=\"display=%s;\"></div><script>%s</script>' % (dom_id, css, js)))\n",
    "    \n",
    "def diagram_tensor_full(shape):\n",
    "    mx = 0\n",
    "    mn = 1e10\n",
    "    for s in shape:\n",
    "        if s is not None and s.value is not None:\n",
    "            mx = max(mx, s.value)\n",
    "            mn = min(mn, s.value)\n",
    "            \n",
    "    dimensions = []\n",
    "    end = []\n",
    "    options = {}\n",
    "    MAX_SIZE = 10\n",
    "    \n",
    "    for s in shape:\n",
    "        if s is not None and s.value is not None:\n",
    "            if s.value <= 4:\n",
    "                dimensions.append(s.value)\n",
    "                end.append(None)\n",
    "            else:\n",
    "                d = max(2, round(((MAX_SIZE - 2) / mx) * s.value))\n",
    "                dimensions.append(d)\n",
    "                end.append(str(s.value))\n",
    "        else:\n",
    "            dimensions.append(MAX_SIZE - 2)\n",
    "            end.append('?')\n",
    "        \n",
    "    if len(dimensions) > 3:\n",
    "        for i in range(len(dimensions) - 3):\n",
    "            diagram_single_tensor(dimensions[i: i + 1], end[i: i + 1], {'highlight': [{'position': [0, 0], 'front': 'gray'}]}, 'inline-block')\n",
    "            \n",
    "        diagram_single_tensor(dimensions[-3:], end[-3:], {}, 'inline-block')\n",
    "    else:\n",
    "        diagram_single_tensor(dimensions, end, {}, 'inline-block')\n",
    "\n",
    "\n",
    "    print(dimensions, end, mx)\n"
   ]
  },
  {
   "cell_type": "code",
   "execution_count": null,
   "metadata": {
    "collapsed": true
   },
   "outputs": [],
   "source": [
    "diagram_tensor_full(t.shape)"
   ]
  },
  {
   "cell_type": "code",
   "execution_count": null,
   "metadata": {
    "collapsed": true
   },
   "outputs": [],
   "source": [
    "render"
   ]
  },
  {
   "cell_type": "code",
   "execution_count": 3,
   "metadata": {
    "collapsed": true
   },
   "outputs": [],
   "source": [
    "model = Model()"
   ]
  },
  {
   "cell_type": "markdown",
   "metadata": {},
   "source": [
    "Create a place holder just like you do with [TensorFlow](https://www.tensorflow.org),\n",
    "and assign it to `model`. The library will set the tensorflow name, and output a nice\n",
    "3D diagram showing the dimensions of the placeholder."
   ]
  },
  {
   "cell_type": "code",
   "execution_count": null,
   "metadata": {
    "collapsed": true
   },
   "outputs": [],
   "source": [
    "d = t.shape[0]"
   ]
  },
  {
   "cell_type": "code",
   "execution_count": null,
   "metadata": {
    "collapsed": true
   },
   "outputs": [],
   "source": [
    "d / 2"
   ]
  },
  {
   "cell_type": "code",
   "execution_count": null,
   "metadata": {
    "collapsed": true
   },
   "outputs": [],
   "source": [
    "e = tf.shape(t)"
   ]
  },
  {
   "cell_type": "code",
   "execution_count": null,
   "metadata": {
    "collapsed": true
   },
   "outputs": [],
   "source": [
    "e[0]"
   ]
  },
  {
   "cell_type": "code",
   "execution_count": null,
   "metadata": {
    "collapsed": true
   },
   "outputs": [],
   "source": [
    "p2 = tf.tile(t, [e[0], e[0], 1, 1], name=\"W_tiled\")"
   ]
  },
  {
   "cell_type": "code",
   "execution_count": null,
   "metadata": {
    "collapsed": true
   },
   "outputs": [],
   "source": [
    "p2.shape"
   ]
  },
  {
   "cell_type": "code",
   "execution_count": null,
   "metadata": {
    "collapsed": true
   },
   "outputs": [],
   "source": [
    "p2 = tf.placeholder(shape=[e[0], 10], dtype=tf.float32)"
   ]
  },
  {
   "cell_type": "code",
   "execution_count": null,
   "metadata": {
    "collapsed": true
   },
   "outputs": [],
   "source": [
    "import json"
   ]
  },
  {
   "cell_type": "code",
   "execution_count": null,
   "metadata": {
    "collapsed": true
   },
   "outputs": [],
   "source": [
    "json.dumps([2,3])"
   ]
  },
  {
   "cell_type": "code",
   "execution_count": null,
   "metadata": {
    "collapsed": true
   },
   "outputs": [],
   "source": [
    "c = tf.constant(32, name='batch_size')"
   ]
  },
  {
   "cell_type": "code",
   "execution_count": null,
   "metadata": {
    "collapsed": true
   },
   "outputs": [],
   "source": [
    "p = tf.placeholder(shape=[c, 10], dtype=tf.float32)"
   ]
  },
  {
   "cell_type": "markdown",
   "metadata": {},
   "source": [
    "The dimensions of the tensor is visualized in 3D.\n",
    "This is more convenient than having to write an extra line\n",
    "to output the shape of $X$.\n",
    "I'm not sure if this is the best way to visualize;\n",
    "I have discussed some other ideas later.\n",
    "\n",
    "Also notice that we didn't pass the variable name as an argument;\n",
    "it was extracted from the assigned property name.\n",
    "The cost of this is that we have to use a `model` to store all\n",
    "variables and operations."
   ]
  },
  {
   "cell_type": "code",
   "execution_count": 4,
   "metadata": {},
   "outputs": [
    {
     "data": {
      "text/markdown": [
       "\\begin{align}\n",
       "X\n",
       "\\end{align}"
      ],
      "text/plain": [
       "<IPython.core.display.Markdown object>"
      ]
     },
     "metadata": {},
     "output_type": "display_data"
    },
    {
     "name": "stdout",
     "output_type": "stream",
     "text": [
      "<div id=\"kfytwtwuac\" style=\"display=inline-block;\"></div><script>require([\"main\"], function(main) { main.renderTensor(\"kfytwtwuac\", [8], [\"?\"], {\"highlight\": [{\"position\": [0, 0], \"front\": \"gray\"}]}); });</script><div id=\"rcbqezoyom\" style=\"display=inline-block;\"></div><script>require([\"main\"], function(main) { main.renderTensor(\"rcbqezoyom\", [8, 8, 1], [\"28\", \"28\", null], {}); });</script>\n"
     ]
    },
    {
     "data": {
      "text/html": [
       "<div id=\"kfytwtwuac\" style=\"display=inline-block;\"></div><script>require([\"main\"], function(main) { main.renderTensor(\"kfytwtwuac\", [8], [\"?\"], {\"highlight\": [{\"position\": [0, 0], \"front\": \"gray\"}]}); });</script><div id=\"rcbqezoyom\" style=\"display=inline-block;\"></div><script>require([\"main\"], function(main) { main.renderTensor(\"rcbqezoyom\", [8, 8, 1], [\"28\", \"28\", null], {}); });</script>"
      ],
      "text/plain": [
       "<IPython.core.display.HTML object>"
      ]
     },
     "metadata": {},
     "output_type": "display_data"
    }
   ],
   "source": [
    "model.X = tfw.placeholder(shape=[None, 28, 28, 1], dtype=tf.float32)"
   ]
  },
  {
   "cell_type": "code",
   "execution_count": null,
   "metadata": {
    "collapsed": true
   },
   "outputs": [],
   "source": [
    "caps1_n_maps = 32\n",
    "caps1_n_caps = caps1_n_maps * 6 * 6  # 1152 primary capsules\n",
    "caps1_n_dims = 8"
   ]
  },
  {
   "cell_type": "code",
   "execution_count": null,
   "metadata": {
    "collapsed": true
   },
   "outputs": [],
   "source": [
    "conv1_params = {\n",
    "    \"filters\": 256,\n",
    "    \"kernel_size\": 9,\n",
    "    \"strides\": 1,\n",
    "    \"padding\": \"valid\",\n",
    "    \"activation\": tf.nn.relu,\n",
    "}\n",
    "\n",
    "conv2_params = {\n",
    "    \"filters\": caps1_n_maps * caps1_n_dims, # 256 convolutional filters\n",
    "    \"kernel_size\": 9,\n",
    "    \"strides\": 2,\n",
    "    \"padding\": \"valid\",\n",
    "    \"activation\": tf.nn.relu\n",
    "}"
   ]
  },
  {
   "cell_type": "markdown",
   "metadata": {},
   "source": [
    "You can add `conv2d` layers similarly."
   ]
  },
  {
   "cell_type": "code",
   "execution_count": null,
   "metadata": {
    "collapsed": true
   },
   "outputs": [],
   "source": [
    "model.conv1 = tf.layers.conv2d(model.X, **conv1_params)\n",
    "model.conv2 = tf.layers.conv2d(model.conv1, **conv2_params)"
   ]
  },
  {
   "cell_type": "markdown",
   "metadata": {},
   "source": [
    "Above diagram shows that there are `6x6` feature maps of `256` channels after the second convolution.\n",
    "I'm planning to indicate the *strides*, *kernel size* and *padding* on the 2-D diagram."
   ]
  },
  {
   "cell_type": "code",
   "execution_count": null,
   "metadata": {
    "collapsed": true
   },
   "outputs": [],
   "source": [
    "model.caps1_raw = tf.reshape(model.conv2, [-1, caps1_n_caps, caps1_n_dims])"
   ]
  },
  {
   "cell_type": "markdown",
   "metadata": {},
   "source": [
    "Here's a function definition.\n",
    "You can add a naming scope,\n",
    "so that it will not render internal operations."
   ]
  },
  {
   "cell_type": "code",
   "execution_count": null,
   "metadata": {
    "collapsed": true
   },
   "outputs": [],
   "source": [
    "def squash(s, axis=-1, epsilon=tf.constant(1e-7), name=None):\n",
    "    model.epsilon = epsilon\n",
    "    if name is None:\n",
    "        name = 'squash'\n",
    "    model.add_scope(name)\n",
    "    model.squared_norm = tf.reduce_sum(tf.square(s), axis=axis,\n",
    "                                 keep_dims=True)\n",
    "    model.safe_norm = tf.sqrt(tf.add(model.squared_norm, epsilon))\n",
    "    model.squash_factor = tf.divide(model.squared_norm, tf.add(1., model.squared_norm))\n",
    "    model.unit_vector = tf.divide(s, model.safe_norm)\n",
    "    model.squashed = tf.multiply(model.squash_factor, model.unit_vector)\n",
    "\n",
    "    model.remove_scope() # Need to implement with mode.scope ....\n",
    "    \n",
    "    return model.squashed    "
   ]
  },
  {
   "cell_type": "markdown",
   "metadata": {},
   "source": [
    "Call to the function will render the full formula and output tensor dimensions."
   ]
  },
  {
   "cell_type": "code",
   "execution_count": null,
   "metadata": {
    "collapsed": true
   },
   "outputs": [],
   "source": [
    "model.caps1_output = squash(model.caps1_raw, name=\"caps1_squash\")"
   ]
  },
  {
   "cell_type": "markdown",
   "metadata": {
    "collapsed": true
   },
   "source": [
    "This helps you verify the formulas when coding.\n",
    "It help readers quickly understand whats going on,\n",
    "without having to look back at the function definition.\n",
    "\n",
    "Notice that, tries to convert the variable names into mathematical symbols;\n",
    "e.g. `epsilon` -> $\\epsilon$"
   ]
  },
  {
   "cell_type": "markdown",
   "metadata": {},
   "source": [
    "## Why?\n",
    "\n",
    "This was developed to make machine learning code easier to understand,\n",
    "at the time of writing as well as for readers.\n",
    "I have only tried this on small networks (mostly based on tutorials).\n",
    "So far I've found it helpful.\n",
    "\n",
    "I feel it's helpful for beginners than for experts,\n",
    "who get confused on the detailed workings of the functions.\n",
    "This is espcially true for me because I only work on tensorflow\n",
    "on and off, and I forget all the details.\n",
    "\n",
    "It is also useful when writing notebooks intended for others to read (like tutorials)."
   ]
  },
  {
   "cell_type": "markdown",
   "metadata": {},
   "source": [
    "## What's next?\n",
    "\n",
    "The above example shows most of the things I've implemented so far.\n",
    "It's just a couple of hunderd lines of python and javascript I've written on free time.\n",
    "I am planning to cleanup the code and host it on github.\n",
    "Right now the code is messy, and needs to be fixed almost everytime I use it.\n",
    "\n",
    "### Cover more tensorflow operations\n",
    "\n",
    "Current implementaion is only for a few common tensorflow functions.\n",
    "\n",
    "Also, the library doesn't do operator overloading which is really important.\n",
    "That is, we should be able to write `X / Y`\n",
    "instead of `tf.divide(X, Y)`\n",
    "\n",
    "### Diagrams to how operations work\n",
    "\n",
    "We need to include more details in diagrams to explain complex operation.\n",
    "For instance, we can *indicate padding, strides and kernal size\n",
    "in the diagram for convolution operation*.\n",
    "We can do similar diagrams for tensor transformations.\n",
    "\n",
    "Also, the current 2-D and 3-D tensor diagrams might \n",
    "not be the best in all situations.\n",
    "It sometimes makes more sense not to show individual cells,\n",
    "butto show the sizes of the dimensions.\n",
    "\n",
    "Why I decided to show individual cells is with the intention of\n",
    "adding details like highlighted cells, kernels, etc on the same diagram.\n",
    "\n",
    "![matrix](http://blog.varunajayasiri.com/ml/tf_for_beginners/matrix.png)\n",
    "\n",
    "It's sometimes important to show higher dimensianality,\n",
    "especially for operations like reshaping and tiling.\n",
    "\n",
    "![tiling](http://blog.varunajayasiri.com/ml/tf_for_beginners/tile.png)\n",
    "\n",
    "And, on some occasions,\n",
    "it may be just enough to show the shape of the tensor in text;\n",
    "e.g. `([?, 10, 50, 20, 10])`.\n",
    "\n",
    "### Function Wrappers\n",
    "\n",
    "For example, we can wrap the function `squash`.\n",
    "\n",
    "    wrap(tensor(['N', 'H', 'W'])\n",
    "    def squash(s, axis=-1, epsilon=Noob(tf.constant, 1e-7), name=None):\n",
    "        ...\n",
    "        \n",
    "And it can display the full formula for the function and the output tensor dimensions.\n",
    "This will help us test functions before calling them, and help readers get an overview\n",
    "of the function without reading the internals. \n",
    "\n",
    "### Please give your feedback. Find me on twitter [@vpj](https://twitter.com/vpj).\n",
    "\n"
   ]
  },
  {
   "cell_type": "code",
   "execution_count": null,
   "metadata": {
    "collapsed": true
   },
   "outputs": [],
   "source": []
  }
 ],
 "metadata": {
  "kernelspec": {
   "display_name": "Python 3",
   "language": "python",
   "name": "python3"
  },
  "language_info": {
   "codemirror_mode": {
    "name": "ipython",
    "version": 3
   },
   "file_extension": ".py",
   "mimetype": "text/x-python",
   "name": "python",
   "nbconvert_exporter": "python",
   "pygments_lexer": "ipython3",
   "version": "3.6.1"
  }
 },
 "nbformat": 4,
 "nbformat_minor": 2
}
